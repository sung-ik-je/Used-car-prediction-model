{
 "cells": [
  {
   "cell_type": "markdown",
   "id": "d41e79ee",
   "metadata": {},
   "source": [
    "# Data 분석\n",
    "- 목적 : 중고차 예상 판매가격 예측"
   ]
  },
  {
   "cell_type": "code",
   "execution_count": 1,
   "id": "e7e95a3a",
   "metadata": {
    "ExecuteTime": {
     "end_time": "2022-07-19T07:12:52.532434Z",
     "start_time": "2022-07-19T07:12:52.081675Z"
    }
   },
   "outputs": [
    {
     "data": {
      "text/html": [
       "<div>\n",
       "<style scoped>\n",
       "    .dataframe tbody tr th:only-of-type {\n",
       "        vertical-align: middle;\n",
       "    }\n",
       "\n",
       "    .dataframe tbody tr th {\n",
       "        vertical-align: top;\n",
       "    }\n",
       "\n",
       "    .dataframe thead th {\n",
       "        text-align: right;\n",
       "    }\n",
       "</style>\n",
       "<table border=\"1\" class=\"dataframe\">\n",
       "  <thead>\n",
       "    <tr style=\"text-align: right;\">\n",
       "      <th></th>\n",
       "      <th>Car_Name</th>\n",
       "      <th>Year</th>\n",
       "      <th>Selling_Price</th>\n",
       "      <th>Present_Price</th>\n",
       "      <th>Kms_Driven</th>\n",
       "      <th>Fuel_Type</th>\n",
       "      <th>Seller_Type</th>\n",
       "      <th>Transmission</th>\n",
       "      <th>Owner</th>\n",
       "    </tr>\n",
       "  </thead>\n",
       "  <tbody>\n",
       "    <tr>\n",
       "      <th>0</th>\n",
       "      <td>ritz</td>\n",
       "      <td>2014</td>\n",
       "      <td>3.35</td>\n",
       "      <td>5.59</td>\n",
       "      <td>27000</td>\n",
       "      <td>Petrol</td>\n",
       "      <td>Dealer</td>\n",
       "      <td>Manual</td>\n",
       "      <td>0</td>\n",
       "    </tr>\n",
       "    <tr>\n",
       "      <th>1</th>\n",
       "      <td>sx4</td>\n",
       "      <td>2013</td>\n",
       "      <td>4.75</td>\n",
       "      <td>9.54</td>\n",
       "      <td>43000</td>\n",
       "      <td>Diesel</td>\n",
       "      <td>Dealer</td>\n",
       "      <td>Manual</td>\n",
       "      <td>0</td>\n",
       "    </tr>\n",
       "    <tr>\n",
       "      <th>2</th>\n",
       "      <td>ciaz</td>\n",
       "      <td>2017</td>\n",
       "      <td>7.25</td>\n",
       "      <td>9.85</td>\n",
       "      <td>6900</td>\n",
       "      <td>Petrol</td>\n",
       "      <td>Dealer</td>\n",
       "      <td>Manual</td>\n",
       "      <td>0</td>\n",
       "    </tr>\n",
       "    <tr>\n",
       "      <th>3</th>\n",
       "      <td>wagon r</td>\n",
       "      <td>2011</td>\n",
       "      <td>2.85</td>\n",
       "      <td>4.15</td>\n",
       "      <td>5200</td>\n",
       "      <td>Petrol</td>\n",
       "      <td>Dealer</td>\n",
       "      <td>Manual</td>\n",
       "      <td>0</td>\n",
       "    </tr>\n",
       "    <tr>\n",
       "      <th>4</th>\n",
       "      <td>swift</td>\n",
       "      <td>2014</td>\n",
       "      <td>4.60</td>\n",
       "      <td>6.87</td>\n",
       "      <td>42450</td>\n",
       "      <td>Diesel</td>\n",
       "      <td>Dealer</td>\n",
       "      <td>Manual</td>\n",
       "      <td>0</td>\n",
       "    </tr>\n",
       "    <tr>\n",
       "      <th>...</th>\n",
       "      <td>...</td>\n",
       "      <td>...</td>\n",
       "      <td>...</td>\n",
       "      <td>...</td>\n",
       "      <td>...</td>\n",
       "      <td>...</td>\n",
       "      <td>...</td>\n",
       "      <td>...</td>\n",
       "      <td>...</td>\n",
       "    </tr>\n",
       "    <tr>\n",
       "      <th>296</th>\n",
       "      <td>city</td>\n",
       "      <td>2016</td>\n",
       "      <td>9.50</td>\n",
       "      <td>11.60</td>\n",
       "      <td>33988</td>\n",
       "      <td>Diesel</td>\n",
       "      <td>Dealer</td>\n",
       "      <td>Manual</td>\n",
       "      <td>0</td>\n",
       "    </tr>\n",
       "    <tr>\n",
       "      <th>297</th>\n",
       "      <td>brio</td>\n",
       "      <td>2015</td>\n",
       "      <td>4.00</td>\n",
       "      <td>5.90</td>\n",
       "      <td>60000</td>\n",
       "      <td>Petrol</td>\n",
       "      <td>Dealer</td>\n",
       "      <td>Manual</td>\n",
       "      <td>0</td>\n",
       "    </tr>\n",
       "    <tr>\n",
       "      <th>298</th>\n",
       "      <td>city</td>\n",
       "      <td>2009</td>\n",
       "      <td>3.35</td>\n",
       "      <td>11.00</td>\n",
       "      <td>87934</td>\n",
       "      <td>Petrol</td>\n",
       "      <td>Dealer</td>\n",
       "      <td>Manual</td>\n",
       "      <td>0</td>\n",
       "    </tr>\n",
       "    <tr>\n",
       "      <th>299</th>\n",
       "      <td>city</td>\n",
       "      <td>2017</td>\n",
       "      <td>11.50</td>\n",
       "      <td>12.50</td>\n",
       "      <td>9000</td>\n",
       "      <td>Diesel</td>\n",
       "      <td>Dealer</td>\n",
       "      <td>Manual</td>\n",
       "      <td>0</td>\n",
       "    </tr>\n",
       "    <tr>\n",
       "      <th>300</th>\n",
       "      <td>brio</td>\n",
       "      <td>2016</td>\n",
       "      <td>5.30</td>\n",
       "      <td>5.90</td>\n",
       "      <td>5464</td>\n",
       "      <td>Petrol</td>\n",
       "      <td>Dealer</td>\n",
       "      <td>Manual</td>\n",
       "      <td>0</td>\n",
       "    </tr>\n",
       "  </tbody>\n",
       "</table>\n",
       "<p>301 rows × 9 columns</p>\n",
       "</div>"
      ],
      "text/plain": [
       "    Car_Name  Year  Selling_Price  Present_Price  Kms_Driven Fuel_Type  \\\n",
       "0       ritz  2014           3.35           5.59       27000    Petrol   \n",
       "1        sx4  2013           4.75           9.54       43000    Diesel   \n",
       "2       ciaz  2017           7.25           9.85        6900    Petrol   \n",
       "3    wagon r  2011           2.85           4.15        5200    Petrol   \n",
       "4      swift  2014           4.60           6.87       42450    Diesel   \n",
       "..       ...   ...            ...            ...         ...       ...   \n",
       "296     city  2016           9.50          11.60       33988    Diesel   \n",
       "297     brio  2015           4.00           5.90       60000    Petrol   \n",
       "298     city  2009           3.35          11.00       87934    Petrol   \n",
       "299     city  2017          11.50          12.50        9000    Diesel   \n",
       "300     brio  2016           5.30           5.90        5464    Petrol   \n",
       "\n",
       "    Seller_Type Transmission  Owner  \n",
       "0        Dealer       Manual      0  \n",
       "1        Dealer       Manual      0  \n",
       "2        Dealer       Manual      0  \n",
       "3        Dealer       Manual      0  \n",
       "4        Dealer       Manual      0  \n",
       "..          ...          ...    ...  \n",
       "296      Dealer       Manual      0  \n",
       "297      Dealer       Manual      0  \n",
       "298      Dealer       Manual      0  \n",
       "299      Dealer       Manual      0  \n",
       "300      Dealer       Manual      0  \n",
       "\n",
       "[301 rows x 9 columns]"
      ]
     },
     "execution_count": 1,
     "metadata": {},
     "output_type": "execute_result"
    }
   ],
   "source": [
    "import pandas as pd\n",
    "import numpy as np\n",
    "df = pd.read_csv('data/car_data.csv')\n",
    "df"
   ]
  },
  {
   "cell_type": "code",
   "execution_count": 2,
   "id": "f387bd8a",
   "metadata": {
    "ExecuteTime": {
     "end_time": "2022-07-19T07:12:53.448655Z",
     "start_time": "2022-07-19T07:12:53.426739Z"
    }
   },
   "outputs": [
    {
     "data": {
      "text/plain": [
       "0    290\n",
       "1     10\n",
       "3      1\n",
       "Name: Owner, dtype: int64"
      ]
     },
     "execution_count": 2,
     "metadata": {},
     "output_type": "execute_result"
    }
   ],
   "source": [
    "df.Year.value_counts()\n",
    "df.Fuel_Type.value_counts()\n",
    "df.Seller_Type.value_counts()\n",
    "df.Transmission.value_counts()\n",
    "df.Owner.value_counts()"
   ]
  },
  {
   "cell_type": "markdown",
   "id": "1de36227",
   "metadata": {},
   "source": [
    "## Feature\n",
    "- Car_Name : 차량 이름  ==> index로 설정\n",
    "- Year : 차 구매년도 ==> 범주형\n",
    "  - 2004년~15년까지의 value \n",
    "- Kms_Driven : 달린 거리 ==> 연속형\n",
    "- Present_Price\t: 현재 가격 ==> 연속형\n",
    "- Fuel_Type : 기름 종류 ==> 범주형 \n",
    "  - Petrol, Diesel, CNG 총 3가지 종류  \n",
    "- Seller_Type : 판매자  ==> 범주형\n",
    "  - Individual, Dealer\n",
    "- Transmission\t : 기어 변속기 종류  ==> 범주형\n",
    "  - Manual, Automatic\n",
    "- Owner : 차량의 이전 소유자 수  ==> 범주형\n",
    "  - 0, 1, 3\n",
    "  \n",
    "## Label\n",
    "- Selling_Price, 중고차 판매가격으로 예측해야되는 연속적인 값"
   ]
  },
  {
   "cell_type": "code",
   "execution_count": 3,
   "id": "8e614a48",
   "metadata": {
    "ExecuteTime": {
     "end_time": "2022-07-19T07:12:56.303855Z",
     "start_time": "2022-07-19T07:12:56.285896Z"
    },
    "scrolled": true
   },
   "outputs": [
    {
     "data": {
      "text/html": [
       "<div>\n",
       "<style scoped>\n",
       "    .dataframe tbody tr th:only-of-type {\n",
       "        vertical-align: middle;\n",
       "    }\n",
       "\n",
       "    .dataframe tbody tr th {\n",
       "        vertical-align: top;\n",
       "    }\n",
       "\n",
       "    .dataframe thead th {\n",
       "        text-align: right;\n",
       "    }\n",
       "</style>\n",
       "<table border=\"1\" class=\"dataframe\">\n",
       "  <thead>\n",
       "    <tr style=\"text-align: right;\">\n",
       "      <th></th>\n",
       "      <th>Year</th>\n",
       "      <th>Selling_Price</th>\n",
       "      <th>Present_Price</th>\n",
       "      <th>Kms_Driven</th>\n",
       "      <th>Fuel_Type</th>\n",
       "      <th>Seller_Type</th>\n",
       "      <th>Transmission</th>\n",
       "      <th>Owner</th>\n",
       "    </tr>\n",
       "    <tr>\n",
       "      <th>Car_Name</th>\n",
       "      <th></th>\n",
       "      <th></th>\n",
       "      <th></th>\n",
       "      <th></th>\n",
       "      <th></th>\n",
       "      <th></th>\n",
       "      <th></th>\n",
       "      <th></th>\n",
       "    </tr>\n",
       "  </thead>\n",
       "  <tbody>\n",
       "    <tr>\n",
       "      <th>ritz</th>\n",
       "      <td>2014</td>\n",
       "      <td>3.35</td>\n",
       "      <td>5.59</td>\n",
       "      <td>27000</td>\n",
       "      <td>Petrol</td>\n",
       "      <td>Dealer</td>\n",
       "      <td>Manual</td>\n",
       "      <td>0</td>\n",
       "    </tr>\n",
       "    <tr>\n",
       "      <th>sx4</th>\n",
       "      <td>2013</td>\n",
       "      <td>4.75</td>\n",
       "      <td>9.54</td>\n",
       "      <td>43000</td>\n",
       "      <td>Diesel</td>\n",
       "      <td>Dealer</td>\n",
       "      <td>Manual</td>\n",
       "      <td>0</td>\n",
       "    </tr>\n",
       "    <tr>\n",
       "      <th>ciaz</th>\n",
       "      <td>2017</td>\n",
       "      <td>7.25</td>\n",
       "      <td>9.85</td>\n",
       "      <td>6900</td>\n",
       "      <td>Petrol</td>\n",
       "      <td>Dealer</td>\n",
       "      <td>Manual</td>\n",
       "      <td>0</td>\n",
       "    </tr>\n",
       "    <tr>\n",
       "      <th>wagon r</th>\n",
       "      <td>2011</td>\n",
       "      <td>2.85</td>\n",
       "      <td>4.15</td>\n",
       "      <td>5200</td>\n",
       "      <td>Petrol</td>\n",
       "      <td>Dealer</td>\n",
       "      <td>Manual</td>\n",
       "      <td>0</td>\n",
       "    </tr>\n",
       "    <tr>\n",
       "      <th>swift</th>\n",
       "      <td>2014</td>\n",
       "      <td>4.60</td>\n",
       "      <td>6.87</td>\n",
       "      <td>42450</td>\n",
       "      <td>Diesel</td>\n",
       "      <td>Dealer</td>\n",
       "      <td>Manual</td>\n",
       "      <td>0</td>\n",
       "    </tr>\n",
       "    <tr>\n",
       "      <th>...</th>\n",
       "      <td>...</td>\n",
       "      <td>...</td>\n",
       "      <td>...</td>\n",
       "      <td>...</td>\n",
       "      <td>...</td>\n",
       "      <td>...</td>\n",
       "      <td>...</td>\n",
       "      <td>...</td>\n",
       "    </tr>\n",
       "    <tr>\n",
       "      <th>city</th>\n",
       "      <td>2016</td>\n",
       "      <td>9.50</td>\n",
       "      <td>11.60</td>\n",
       "      <td>33988</td>\n",
       "      <td>Diesel</td>\n",
       "      <td>Dealer</td>\n",
       "      <td>Manual</td>\n",
       "      <td>0</td>\n",
       "    </tr>\n",
       "    <tr>\n",
       "      <th>brio</th>\n",
       "      <td>2015</td>\n",
       "      <td>4.00</td>\n",
       "      <td>5.90</td>\n",
       "      <td>60000</td>\n",
       "      <td>Petrol</td>\n",
       "      <td>Dealer</td>\n",
       "      <td>Manual</td>\n",
       "      <td>0</td>\n",
       "    </tr>\n",
       "    <tr>\n",
       "      <th>city</th>\n",
       "      <td>2009</td>\n",
       "      <td>3.35</td>\n",
       "      <td>11.00</td>\n",
       "      <td>87934</td>\n",
       "      <td>Petrol</td>\n",
       "      <td>Dealer</td>\n",
       "      <td>Manual</td>\n",
       "      <td>0</td>\n",
       "    </tr>\n",
       "    <tr>\n",
       "      <th>city</th>\n",
       "      <td>2017</td>\n",
       "      <td>11.50</td>\n",
       "      <td>12.50</td>\n",
       "      <td>9000</td>\n",
       "      <td>Diesel</td>\n",
       "      <td>Dealer</td>\n",
       "      <td>Manual</td>\n",
       "      <td>0</td>\n",
       "    </tr>\n",
       "    <tr>\n",
       "      <th>brio</th>\n",
       "      <td>2016</td>\n",
       "      <td>5.30</td>\n",
       "      <td>5.90</td>\n",
       "      <td>5464</td>\n",
       "      <td>Petrol</td>\n",
       "      <td>Dealer</td>\n",
       "      <td>Manual</td>\n",
       "      <td>0</td>\n",
       "    </tr>\n",
       "  </tbody>\n",
       "</table>\n",
       "<p>301 rows × 8 columns</p>\n",
       "</div>"
      ],
      "text/plain": [
       "          Year  Selling_Price  Present_Price  Kms_Driven Fuel_Type  \\\n",
       "Car_Name                                                             \n",
       "ritz      2014           3.35           5.59       27000    Petrol   \n",
       "sx4       2013           4.75           9.54       43000    Diesel   \n",
       "ciaz      2017           7.25           9.85        6900    Petrol   \n",
       "wagon r   2011           2.85           4.15        5200    Petrol   \n",
       "swift     2014           4.60           6.87       42450    Diesel   \n",
       "...        ...            ...            ...         ...       ...   \n",
       "city      2016           9.50          11.60       33988    Diesel   \n",
       "brio      2015           4.00           5.90       60000    Petrol   \n",
       "city      2009           3.35          11.00       87934    Petrol   \n",
       "city      2017          11.50          12.50        9000    Diesel   \n",
       "brio      2016           5.30           5.90        5464    Petrol   \n",
       "\n",
       "         Seller_Type Transmission  Owner  \n",
       "Car_Name                                  \n",
       "ritz          Dealer       Manual      0  \n",
       "sx4           Dealer       Manual      0  \n",
       "ciaz          Dealer       Manual      0  \n",
       "wagon r       Dealer       Manual      0  \n",
       "swift         Dealer       Manual      0  \n",
       "...              ...          ...    ...  \n",
       "city          Dealer       Manual      0  \n",
       "brio          Dealer       Manual      0  \n",
       "city          Dealer       Manual      0  \n",
       "city          Dealer       Manual      0  \n",
       "brio          Dealer       Manual      0  \n",
       "\n",
       "[301 rows x 8 columns]"
      ]
     },
     "execution_count": 3,
     "metadata": {},
     "output_type": "execute_result"
    }
   ],
   "source": [
    "# name을 index로 전환\n",
    "df.set_index('Car_Name', inplace = True)\n",
    "df"
   ]
  },
  {
   "cell_type": "markdown",
   "id": "3e15a4b3",
   "metadata": {},
   "source": [
    "## 연속형 Feature들 이상치 확인"
   ]
  },
  {
   "cell_type": "code",
   "execution_count": 11,
   "id": "ca48b258",
   "metadata": {
    "ExecuteTime": {
     "end_time": "2022-07-19T07:15:09.661345Z",
     "start_time": "2022-07-19T07:15:09.560557Z"
    },
    "scrolled": true
   },
   "outputs": [
    {
     "data": {
      "image/png": "[encoded data removed]",
      "text/plain": [
       "<Figure size 720x720 with 1 Axes>"
      ]
     },
     "metadata": {
      "needs_background": "light"
     },
     "output_type": "display_data"
    }
   ],
   "source": [
    "import seaborn as sns\n",
    "import matplotlib.pyplot as plt\n",
    "plt.figure(figsize=(10,10))\n",
    "sns.boxplot(y='Present_Price', data=df)\n",
    "plt.show()"
   ]
  },
  {
   "cell_type": "code",
   "execution_count": 13,
   "id": "01eb1e3c",
   "metadata": {
    "ExecuteTime": {
     "end_time": "2022-07-19T07:16:29.314310Z",
     "start_time": "2022-07-19T07:16:29.301345Z"
    }
   },
   "outputs": [
    {
     "data": {
      "text/plain": [
       "92.6"
      ]
     },
     "execution_count": 13,
     "metadata": {},
     "output_type": "execute_result"
    }
   ],
   "source": [
    "df['Present_Price'].max()"
   ]
  },
  {
   "cell_type": "code",
   "execution_count": 15,
   "id": "f6bc6702",
   "metadata": {
    "ExecuteTime": {
     "end_time": "2022-07-19T07:17:08.352275Z",
     "start_time": "2022-07-19T07:17:08.318337Z"
    }
   },
   "outputs": [
    {
     "data": {
      "text/html": [
       "<div>\n",
       "<style scoped>\n",
       "    .dataframe tbody tr th:only-of-type {\n",
       "        vertical-align: middle;\n",
       "    }\n",
       "\n",
       "    .dataframe tbody tr th {\n",
       "        vertical-align: top;\n",
       "    }\n",
       "\n",
       "    .dataframe thead th {\n",
       "        text-align: right;\n",
       "    }\n",
       "</style>\n",
       "<table border=\"1\" class=\"dataframe\">\n",
       "  <thead>\n",
       "    <tr style=\"text-align: right;\">\n",
       "      <th></th>\n",
       "      <th>Year</th>\n",
       "      <th>Selling_Price</th>\n",
       "      <th>Present_Price</th>\n",
       "      <th>Kms_Driven</th>\n",
       "      <th>Fuel_Type</th>\n",
       "      <th>Seller_Type</th>\n",
       "      <th>Transmission</th>\n",
       "      <th>Owner</th>\n",
       "    </tr>\n",
       "    <tr>\n",
       "      <th>Car_Name</th>\n",
       "      <th></th>\n",
       "      <th></th>\n",
       "      <th></th>\n",
       "      <th></th>\n",
       "      <th></th>\n",
       "      <th></th>\n",
       "      <th></th>\n",
       "      <th></th>\n",
       "    </tr>\n",
       "  </thead>\n",
       "  <tbody>\n",
       "    <tr>\n",
       "      <th>ritz</th>\n",
       "      <td>2014</td>\n",
       "      <td>3.35</td>\n",
       "      <td>5.59</td>\n",
       "      <td>27000</td>\n",
       "      <td>Petrol</td>\n",
       "      <td>Dealer</td>\n",
       "      <td>Manual</td>\n",
       "      <td>0</td>\n",
       "    </tr>\n",
       "    <tr>\n",
       "      <th>sx4</th>\n",
       "      <td>2013</td>\n",
       "      <td>4.75</td>\n",
       "      <td>9.54</td>\n",
       "      <td>43000</td>\n",
       "      <td>Diesel</td>\n",
       "      <td>Dealer</td>\n",
       "      <td>Manual</td>\n",
       "      <td>0</td>\n",
       "    </tr>\n",
       "    <tr>\n",
       "      <th>ciaz</th>\n",
       "      <td>2017</td>\n",
       "      <td>7.25</td>\n",
       "      <td>9.85</td>\n",
       "      <td>6900</td>\n",
       "      <td>Petrol</td>\n",
       "      <td>Dealer</td>\n",
       "      <td>Manual</td>\n",
       "      <td>0</td>\n",
       "    </tr>\n",
       "    <tr>\n",
       "      <th>wagon r</th>\n",
       "      <td>2011</td>\n",
       "      <td>2.85</td>\n",
       "      <td>4.15</td>\n",
       "      <td>5200</td>\n",
       "      <td>Petrol</td>\n",
       "      <td>Dealer</td>\n",
       "      <td>Manual</td>\n",
       "      <td>0</td>\n",
       "    </tr>\n",
       "    <tr>\n",
       "      <th>swift</th>\n",
       "      <td>2014</td>\n",
       "      <td>4.60</td>\n",
       "      <td>6.87</td>\n",
       "      <td>42450</td>\n",
       "      <td>Diesel</td>\n",
       "      <td>Dealer</td>\n",
       "      <td>Manual</td>\n",
       "      <td>0</td>\n",
       "    </tr>\n",
       "    <tr>\n",
       "      <th>...</th>\n",
       "      <td>...</td>\n",
       "      <td>...</td>\n",
       "      <td>...</td>\n",
       "      <td>...</td>\n",
       "      <td>...</td>\n",
       "      <td>...</td>\n",
       "      <td>...</td>\n",
       "      <td>...</td>\n",
       "    </tr>\n",
       "    <tr>\n",
       "      <th>city</th>\n",
       "      <td>2016</td>\n",
       "      <td>9.50</td>\n",
       "      <td>11.60</td>\n",
       "      <td>33988</td>\n",
       "      <td>Diesel</td>\n",
       "      <td>Dealer</td>\n",
       "      <td>Manual</td>\n",
       "      <td>0</td>\n",
       "    </tr>\n",
       "    <tr>\n",
       "      <th>brio</th>\n",
       "      <td>2015</td>\n",
       "      <td>4.00</td>\n",
       "      <td>5.90</td>\n",
       "      <td>60000</td>\n",
       "      <td>Petrol</td>\n",
       "      <td>Dealer</td>\n",
       "      <td>Manual</td>\n",
       "      <td>0</td>\n",
       "    </tr>\n",
       "    <tr>\n",
       "      <th>city</th>\n",
       "      <td>2009</td>\n",
       "      <td>3.35</td>\n",
       "      <td>11.00</td>\n",
       "      <td>87934</td>\n",
       "      <td>Petrol</td>\n",
       "      <td>Dealer</td>\n",
       "      <td>Manual</td>\n",
       "      <td>0</td>\n",
       "    </tr>\n",
       "    <tr>\n",
       "      <th>city</th>\n",
       "      <td>2017</td>\n",
       "      <td>11.50</td>\n",
       "      <td>12.50</td>\n",
       "      <td>9000</td>\n",
       "      <td>Diesel</td>\n",
       "      <td>Dealer</td>\n",
       "      <td>Manual</td>\n",
       "      <td>0</td>\n",
       "    </tr>\n",
       "    <tr>\n",
       "      <th>brio</th>\n",
       "      <td>2016</td>\n",
       "      <td>5.30</td>\n",
       "      <td>5.90</td>\n",
       "      <td>5464</td>\n",
       "      <td>Petrol</td>\n",
       "      <td>Dealer</td>\n",
       "      <td>Manual</td>\n",
       "      <td>0</td>\n",
       "    </tr>\n",
       "  </tbody>\n",
       "</table>\n",
       "<p>300 rows × 8 columns</p>\n",
       "</div>"
      ],
      "text/plain": [
       "          Year  Selling_Price  Present_Price  Kms_Driven Fuel_Type  \\\n",
       "Car_Name                                                             \n",
       "ritz      2014           3.35           5.59       27000    Petrol   \n",
       "sx4       2013           4.75           9.54       43000    Diesel   \n",
       "ciaz      2017           7.25           9.85        6900    Petrol   \n",
       "wagon r   2011           2.85           4.15        5200    Petrol   \n",
       "swift     2014           4.60           6.87       42450    Diesel   \n",
       "...        ...            ...            ...         ...       ...   \n",
       "city      2016           9.50          11.60       33988    Diesel   \n",
       "brio      2015           4.00           5.90       60000    Petrol   \n",
       "city      2009           3.35          11.00       87934    Petrol   \n",
       "city      2017          11.50          12.50        9000    Diesel   \n",
       "brio      2016           5.30           5.90        5464    Petrol   \n",
       "\n",
       "         Seller_Type Transmission  Owner  \n",
       "Car_Name                                  \n",
       "ritz          Dealer       Manual      0  \n",
       "sx4           Dealer       Manual      0  \n",
       "ciaz          Dealer       Manual      0  \n",
       "wagon r       Dealer       Manual      0  \n",
       "swift         Dealer       Manual      0  \n",
       "...              ...          ...    ...  \n",
       "city          Dealer       Manual      0  \n",
       "brio          Dealer       Manual      0  \n",
       "city          Dealer       Manual      0  \n",
       "city          Dealer       Manual      0  \n",
       "brio          Dealer       Manual      0  \n",
       "\n",
       "[300 rows x 8 columns]"
      ]
     },
     "execution_count": 15,
     "metadata": {},
     "output_type": "execute_result"
    }
   ],
   "source": [
    "# 이상치 제거\n",
    "df1 = df.drop(df[df['Present_Price'] >=90].index)\n",
    "df1['Present_Price'].max()\n",
    "df1"
   ]
  },
  {
   "cell_type": "markdown",
   "id": "e042cb28",
   "metadata": {
    "ExecuteTime": {
     "end_time": "2022-07-19T04:28:45.755801Z",
     "start_time": "2022-07-19T04:28:45.741869Z"
    }
   },
   "source": [
    "# Data 전처리\n",
    "1. Feature, Label 분리\n",
    "2. Feature\n",
    "  - 범주형의 경우 pandas의 get_dummies() 함수 이용해 One-Hot Encoding\n",
    "  - 연속형의 경우 앙상블을 위해 Feature Scaling  \n",
    "3. 알고리즘에 따른 Data\n",
    "  - KNN, linear regression은 Feature Scaling 필요\n",
    "  - Random Forest, XGBoost는 필요 X"
   ]
  },
  {
   "cell_type": "code",
   "execution_count": 16,
   "id": "5be9aed8",
   "metadata": {
    "ExecuteTime": {
     "end_time": "2022-07-19T07:17:25.774543Z",
     "start_time": "2022-07-19T07:17:25.754597Z"
    }
   },
   "outputs": [],
   "source": [
    "ohe = ['Year','Fuel_Type','Seller_Type', 'Transmission', 'Owner']\n",
    "df2 = pd.get_dummies(df1, columns= ohe)     \n",
    "df2\n",
    "y = df2['Selling_Price']\n",
    "X= df2.drop(columns='Selling_Price')"
   ]
  },
  {
   "cell_type": "code",
   "execution_count": 17,
   "id": "b6202eb1",
   "metadata": {
    "ExecuteTime": {
     "end_time": "2022-07-19T07:17:26.524411Z",
     "start_time": "2022-07-19T07:17:26.506459Z"
    }
   },
   "outputs": [
    {
     "data": {
      "text/plain": [
       "((225, 28), (225,), (75, 28), (75,))"
      ]
     },
     "execution_count": 17,
     "metadata": {},
     "output_type": "execute_result"
    }
   ],
   "source": [
    "from sklearn.model_selection import train_test_split\n",
    "\n",
    "# X(Feature), y(Label) 분리\n",
    "X_train, X_test, y_train, y_test = train_test_split(X, y, random_state=0)\n",
    "X_train.shape, y_train.shape, X_test.shape, y_test.shape"
   ]
  },
  {
   "cell_type": "code",
   "execution_count": 18,
   "id": "4e468619",
   "metadata": {
    "ExecuteTime": {
     "end_time": "2022-07-19T07:17:33.092469Z",
     "start_time": "2022-07-19T07:17:33.070527Z"
    }
   },
   "outputs": [
    {
     "data": {
      "text/plain": [
       "array([[-0.22151393, -0.40557936, -0.09470274, ...,  0.21566555,\n",
       "        -0.20412415, -0.06681531],\n",
       "       [-0.98141968,  0.3790439 , -0.09470274, ...,  0.21566555,\n",
       "        -0.20412415, -0.06681531],\n",
       "       [ 0.40655633, -0.54744851, -0.09470274, ...,  0.21566555,\n",
       "        -0.20412415, -0.06681531],\n",
       "       ...,\n",
       "       [-0.05857117, -0.51270504, -0.09470274, ...,  0.21566555,\n",
       "        -0.20412415, -0.06681531],\n",
       "       [-0.1044914 , -0.51965374, -0.09470274, ...,  0.21566555,\n",
       "        -0.20412415, -0.06681531],\n",
       "       [-0.94586853, -0.45479927, -0.09470274, ...,  0.21566555,\n",
       "        -0.20412415, -0.06681531]])"
      ]
     },
     "execution_count": 18,
     "metadata": {},
     "output_type": "execute_result"
    }
   ],
   "source": [
    "from sklearn.preprocessing import StandardScaler\n",
    "\n",
    "# Feature Scaling\n",
    "scaler = StandardScaler()\n",
    "X_train_scaled = scaler.fit_transform(X_train)\n",
    "X_test_scaled = scaler.transform(X_test)\n",
    "X_test_scaled"
   ]
  },
  {
   "cell_type": "markdown",
   "id": "6c5b98eb",
   "metadata": {
    "ExecuteTime": {
     "end_time": "2022-07-19T04:30:49.514324Z",
     "start_time": "2022-07-19T04:30:49.508371Z"
    }
   },
   "source": [
    "## 모델 선정\n",
    "- 모델 선정을 위해 Ensemble Voting 방식 이용해 검증 및 상관관계 판단"
   ]
  },
  {
   "cell_type": "code",
   "execution_count": 19,
   "id": "b3405990",
   "metadata": {
    "ExecuteTime": {
     "end_time": "2022-07-19T07:17:35.095210Z",
     "start_time": "2022-07-19T07:17:35.090190Z"
    }
   },
   "outputs": [],
   "source": [
    "from sklearn.neighbors import KNeighborsRegressor\n",
    "from sklearn.ensemble import RandomForestRegressor, VotingRegressor\n",
    "from sklearn.linear_model import LinearRegression\n",
    "import xgboost"
   ]
  },
  {
   "cell_type": "code",
   "execution_count": 20,
   "id": "d480e83b",
   "metadata": {
    "ExecuteTime": {
     "end_time": "2022-07-19T07:17:35.645446Z",
     "start_time": "2022-07-19T07:17:35.628011Z"
    }
   },
   "outputs": [],
   "source": [
    "# 각 model 생성\n",
    "knn = KNeighborsRegressor(n_neighbors=5)\n",
    "rf = RandomForestRegressor(n_estimators=200, max_depth=5, random_state=0)\n",
    "lr = LinearRegression()\n",
    "xgb = xgboost.XGBRegressor(max_depth=2, random_state=0)"
   ]
  },
  {
   "cell_type": "code",
   "execution_count": 21,
   "id": "29a03bb4",
   "metadata": {
    "ExecuteTime": {
     "end_time": "2022-07-19T07:17:36.832835Z",
     "start_time": "2022-07-19T07:17:36.347921Z"
    }
   },
   "outputs": [
    {
     "name": "stderr",
     "output_type": "stream",
     "text": [
      "C:\\Users\\oj\\anaconda3\\envs\\ml\\lib\\site-packages\\xgboost\\data.py:262: FutureWarning: pandas.Int64Index is deprecated and will be removed from pandas in a future version. Use pandas.Index with the appropriate dtype instead.\n",
      "  elif isinstance(data.columns, (pd.Int64Index, pd.RangeIndex)):\n",
      "C:\\Users\\oj\\anaconda3\\envs\\ml\\lib\\site-packages\\xgboost\\data.py:262: FutureWarning: pandas.Int64Index is deprecated and will be removed from pandas in a future version. Use pandas.Index with the appropriate dtype instead.\n",
      "  elif isinstance(data.columns, (pd.Int64Index, pd.RangeIndex)):\n",
      "C:\\Users\\oj\\anaconda3\\envs\\ml\\lib\\site-packages\\xgboost\\data.py:262: FutureWarning: pandas.Int64Index is deprecated and will be removed from pandas in a future version. Use pandas.Index with the appropriate dtype instead.\n",
      "  elif isinstance(data.columns, (pd.Int64Index, pd.RangeIndex)):\n"
     ]
    }
   ],
   "source": [
    "# 학습\n",
    "knn.fit(X_train_scaled, y_train)   \n",
    "rf.fit(X_train, y_train)\n",
    "xgb.fit(X_train, y_train)\n",
    "lr.fit(X_train_scaled, y_train)\n",
    "# 평가\n",
    "pred_train_knn = knn.predict(X_train_scaled)\n",
    "pred_train_rf = rf.predict(X_train)\n",
    "pred_train_xgb = xgb.predict(X_train)\n",
    "pred_train_lr = lr.predict(X_train_scaled)\n",
    "\n",
    "pred_test_knn = knn.predict(X_test_scaled)\n",
    "pred_test_rf = rf.predict(X_test)\n",
    "pred_test_xgb = xgb.predict(X_test)\n",
    "pred_test_lr = lr.predict(X_test_scaled)"
   ]
  },
  {
   "cell_type": "code",
   "execution_count": 22,
   "id": "bd9647d5",
   "metadata": {
    "ExecuteTime": {
     "end_time": "2022-07-19T07:17:37.647933Z",
     "start_time": "2022-07-19T07:17:37.627987Z"
    }
   },
   "outputs": [],
   "source": [
    "# 평가 요소 관련 함수 정의\n",
    "from sklearn.metrics import mean_squared_error, r2_score\n",
    "def print_regression_metrics(y, pred, title=None):\n",
    "    mse = mean_squared_error(y, pred)\n",
    "    rmse = np.sqrt(mse)\n",
    "    r2 = r2_score(y, pred)\n",
    "    if title:\n",
    "        print(title)\n",
    "    print(f\"MSE: {mse}, RMSE: {rmse}, R2: {r2}\")"
   ]
  },
  {
   "cell_type": "code",
   "execution_count": 23,
   "id": "9725d455",
   "metadata": {
    "ExecuteTime": {
     "end_time": "2022-07-19T07:17:41.493871Z",
     "start_time": "2022-07-19T07:17:41.471929Z"
    }
   },
   "outputs": [
    {
     "name": "stdout",
     "output_type": "stream",
     "text": [
      "Train KNN\n",
      "MSE: 1.9118824, RMSE: 1.382708356812817, R2: 0.8916029837273844\n",
      "Test KNN\n",
      "MSE: 6.390367520000001, RMSE: 2.52791762524019, R2: 0.8272692919408701\n",
      "----------------------------------------------------------------------------------------------------\n",
      "Train RF\n",
      "MSE: 0.5459557840124758, RMSE: 0.7388882080615956, R2: 0.9690462248076928\n",
      "Test RF\n",
      "MSE: 3.9388768490141075, RMSE: 1.9846603863165375, R2: 0.8935327295404254\n",
      "----------------------------------------------------------------------------------------------------\n",
      "Train lr\n",
      "MSE: 1.9600342645716637, RMSE: 1.4000122372935402, R2: 0.8888729421476662\n",
      "Test lr\n",
      "MSE: 3.994475047163851, RMSE: 1.9986182845065366, R2: 0.892029918300984\n",
      "----------------------------------------------------------------------------------------------------\n",
      "Train XGB\n",
      "MSE: 0.1851513884944007, RMSE: 0.4302922129139693, R2: 0.9895025666476531\n",
      "Test XGB\n",
      "MSE: 2.364809749839021, RMSE: 1.5377937930161576, R2: 0.9360795351384066\n"
     ]
    }
   ],
   "source": [
    "# train, test set 평가\n",
    "print_regression_metrics(y_train, pred_train_knn, \"Train KNN\")\n",
    "print_regression_metrics(y_test, pred_test_knn, \"Test KNN\")\n",
    "print('-'*100)\n",
    "print_regression_metrics(y_train, pred_train_rf, \"Train RF\")\n",
    "print_regression_metrics(y_test, pred_test_rf, \"Test RF\")\n",
    "print('-'*100)\n",
    "# print_regression_metrics(y_train, pred_train_lr, \"Train LogisticRegression\")\n",
    "# print_regression_metrics(y_test, pred_test_lr, \"Test LogisticRegression\")\n",
    "print_regression_metrics(y_train, pred_train_lr, 'Train lr')\n",
    "print_regression_metrics(y_test, pred_test_lr, 'Test lr')\n",
    "print('-'*100)\n",
    "print_regression_metrics(y_train, pred_train_xgb, 'Train XGB')\n",
    "print_regression_metrics(y_test, pred_test_xgb, 'Test XGB')"
   ]
  },
  {
   "cell_type": "markdown",
   "id": "fc03d1fe",
   "metadata": {
    "ExecuteTime": {
     "end_time": "2022-07-19T04:20:30.460665Z",
     "start_time": "2022-07-19T04:20:30.451698Z"
    }
   },
   "source": [
    "### 상관관계 분석"
   ]
  },
  {
   "cell_type": "code",
   "execution_count": 25,
   "id": "f63cdf2e",
   "metadata": {
    "ExecuteTime": {
     "end_time": "2022-07-19T07:18:11.497626Z",
     "start_time": "2022-07-19T07:18:11.482636Z"
    }
   },
   "outputs": [
    {
     "data": {
      "text/html": [
       "<div>\n",
       "<style scoped>\n",
       "    .dataframe tbody tr th:only-of-type {\n",
       "        vertical-align: middle;\n",
       "    }\n",
       "\n",
       "    .dataframe tbody tr th {\n",
       "        vertical-align: top;\n",
       "    }\n",
       "\n",
       "    .dataframe thead th {\n",
       "        text-align: right;\n",
       "    }\n",
       "</style>\n",
       "<table border=\"1\" class=\"dataframe\">\n",
       "  <thead>\n",
       "    <tr style=\"text-align: right;\">\n",
       "      <th></th>\n",
       "      <th>KNN</th>\n",
       "      <th>RandomForest</th>\n",
       "      <th>XGBoost</th>\n",
       "      <th>lr</th>\n",
       "    </tr>\n",
       "  </thead>\n",
       "  <tbody>\n",
       "    <tr>\n",
       "      <th>KNN</th>\n",
       "      <td>1.000000</td>\n",
       "      <td>0.947826</td>\n",
       "      <td>0.945222</td>\n",
       "      <td>0.916382</td>\n",
       "    </tr>\n",
       "    <tr>\n",
       "      <th>RandomForest</th>\n",
       "      <td>0.947826</td>\n",
       "      <td>1.000000</td>\n",
       "      <td>0.991878</td>\n",
       "      <td>0.946904</td>\n",
       "    </tr>\n",
       "    <tr>\n",
       "      <th>XGBoost</th>\n",
       "      <td>0.945222</td>\n",
       "      <td>0.991878</td>\n",
       "      <td>1.000000</td>\n",
       "      <td>0.947417</td>\n",
       "    </tr>\n",
       "    <tr>\n",
       "      <th>lr</th>\n",
       "      <td>0.916382</td>\n",
       "      <td>0.946904</td>\n",
       "      <td>0.947417</td>\n",
       "      <td>1.000000</td>\n",
       "    </tr>\n",
       "  </tbody>\n",
       "</table>\n",
       "</div>"
      ],
      "text/plain": [
       "                   KNN  RandomForest   XGBoost        lr\n",
       "KNN           1.000000      0.947826  0.945222  0.916382\n",
       "RandomForest  0.947826      1.000000  0.991878  0.946904\n",
       "XGBoost       0.945222      0.991878  1.000000  0.947417\n",
       "lr            0.916382      0.946904  0.947417  1.000000"
      ]
     },
     "execution_count": 25,
     "metadata": {},
     "output_type": "execute_result"
    }
   ],
   "source": [
    "df = pd.DataFrame(np.c_[pred_train_knn,pred_train_rf, pred_train_xgb,pred_train_lr], \n",
    "                  columns=[ \"KNN\", 'RandomForest', 'XGBoost','lr'])\n",
    "df.corr()"
   ]
  },
  {
   "cell_type": "markdown",
   "id": "55eee874",
   "metadata": {},
   "source": [
    "- XGBoost(최고 성능)기준으로 상관관계 낮은 lr,KNN\n",
    "  - KNN의 경우 최종 모델로 사용하기 부적합하기에 XGBoost,lr 선정"
   ]
  },
  {
   "cell_type": "markdown",
   "id": "b72865f4",
   "metadata": {},
   "source": [
    "# XGBOOST"
   ]
  },
  {
   "cell_type": "code",
   "execution_count": 26,
   "id": "7ea7cd50",
   "metadata": {
    "ExecuteTime": {
     "end_time": "2022-07-19T07:18:43.029167Z",
     "start_time": "2022-07-19T07:18:43.025148Z"
    }
   },
   "outputs": [],
   "source": [
    "import xgboost \n",
    "from sklearn.metrics import mean_squared_error, r2_score\n",
    "\n",
    "# xgb_model = xgboost.XGBRegressor(n_estimators=100, learning_rate=0.08, gamma=0, subsample=0.75, colsample_bytree=1, max_depth=7)xgb = XGBRegressor(n_estimators = 200, learning_rate = 0.1, random_state = 2000)\n",
    "xgb = xgboost.XGBRegressor()"
   ]
  },
  {
   "cell_type": "markdown",
   "id": "fd01ba4a",
   "metadata": {},
   "source": [
    "- XGBoost, Random Search 이용해 모델 학습"
   ]
  },
  {
   "cell_type": "code",
   "execution_count": 27,
   "id": "d71c3495",
   "metadata": {
    "ExecuteTime": {
     "end_time": "2022-07-19T07:19:09.918377Z",
     "start_time": "2022-07-19T07:18:44.361631Z"
    },
    "scrolled": true
   },
   "outputs": [
    {
     "name": "stderr",
     "output_type": "stream",
     "text": [
      "C:\\Users\\oj\\anaconda3\\envs\\ml\\lib\\site-packages\\sklearn\\model_selection\\_search.py:953: UserWarning: One or more of the test scores are non-finite: [ 8.29743426e-01 -2.56872276e+09 -1.12243233e+03  6.87883763e-01\n",
      "  8.57815390e-01  5.36973983e-01  5.55627600e-01  8.92548349e-01\n",
      "  7.65938956e-01  3.61623495e-01  4.00565942e-01 -3.40174927e+32\n",
      "  4.13356563e-01             nan -1.57024642e+11  8.53096852e-01\n",
      "  7.65180375e-01  3.22821463e-01  6.99690578e-01  7.88384511e-01\n",
      " -1.88917623e+11             nan  7.26406799e-01 -1.15421973e+17\n",
      "             nan  7.83813044e-01  4.53080604e-01  7.83287891e-01\n",
      "             nan -5.30883672e-01  8.45129127e-01  8.14264741e-01\n",
      "  8.49346755e-01             nan  8.71574795e-01             nan\n",
      "  8.58613820e-01  5.01970732e-01             nan  8.24793306e-01\n",
      "  7.74796401e-01 -4.66521438e+57  7.47566152e-01  7.94508116e-01\n",
      "  2.50296107e-01  3.93540153e-01  9.47926874e-02  8.67776689e-01\n",
      "  8.02399321e-01  8.87800372e-01             nan  8.76816437e-01\n",
      " -6.50908563e+05  7.84977929e-01  8.25698766e-01  8.39638137e-01\n",
      "  8.40771606e-01             nan             nan  8.52113947e-01]\n",
      "  warnings.warn(\n",
      "C:\\Users\\oj\\anaconda3\\envs\\ml\\lib\\site-packages\\xgboost\\data.py:262: FutureWarning: pandas.Int64Index is deprecated and will be removed from pandas in a future version. Use pandas.Index with the appropriate dtype instead.\n",
      "  elif isinstance(data.columns, (pd.Int64Index, pd.RangeIndex)):\n"
     ]
    },
    {
     "data": {
      "text/html": [
       "<style>#sk-container-id-1 {color: black;background-color: white;}#sk-container-id-1 pre{padding: 0;}#sk-container-id-1 div.sk-toggleable {background-color: white;}#sk-container-id-1 label.sk-toggleable__label {cursor: pointer;display: block;width: 100%;margin-bottom: 0;padding: 0.3em;box-sizing: border-box;text-align: center;}#sk-container-id-1 label.sk-toggleable__label-arrow:before {content: \"▸\";float: left;margin-right: 0.25em;color: #696969;}#sk-container-id-1 label.sk-toggleable__label-arrow:hover:before {color: black;}#sk-container-id-1 div.sk-estimator:hover label.sk-toggleable__label-arrow:before {color: black;}#sk-container-id-1 div.sk-toggleable__content {max-height: 0;max-width: 0;overflow: hidden;text-align: left;background-color: #f0f8ff;}#sk-container-id-1 div.sk-toggleable__content pre {margin: 0.2em;color: black;border-radius: 0.25em;background-color: #f0f8ff;}#sk-container-id-1 input.sk-toggleable__control:checked~div.sk-toggleable__content {max-height: 200px;max-width: 100%;overflow: auto;}#sk-container-id-1 input.sk-toggleable__control:checked~label.sk-toggleable__label-arrow:before {content: \"▾\";}#sk-container-id-1 div.sk-estimator input.sk-toggleable__control:checked~label.sk-toggleable__label {background-color: #d4ebff;}#sk-container-id-1 div.sk-label input.sk-toggleable__control:checked~label.sk-toggleable__label {background-color: #d4ebff;}#sk-container-id-1 input.sk-hidden--visually {border: 0;clip: rect(1px 1px 1px 1px);clip: rect(1px, 1px, 1px, 1px);height: 1px;margin: -1px;overflow: hidden;padding: 0;position: absolute;width: 1px;}#sk-container-id-1 div.sk-estimator {font-family: monospace;background-color: #f0f8ff;border: 1px dotted black;border-radius: 0.25em;box-sizing: border-box;margin-bottom: 0.5em;}#sk-container-id-1 div.sk-estimator:hover {background-color: #d4ebff;}#sk-container-id-1 div.sk-parallel-item::after {content: \"\";width: 100%;border-bottom: 1px solid gray;flex-grow: 1;}#sk-container-id-1 div.sk-label:hover label.sk-toggleable__label {background-color: #d4ebff;}#sk-container-id-1 div.sk-serial::before {content: \"\";position: absolute;border-left: 1px solid gray;box-sizing: border-box;top: 0;bottom: 0;left: 50%;z-index: 0;}#sk-container-id-1 div.sk-serial {display: flex;flex-direction: column;align-items: center;background-color: white;padding-right: 0.2em;padding-left: 0.2em;position: relative;}#sk-container-id-1 div.sk-item {position: relative;z-index: 1;}#sk-container-id-1 div.sk-parallel {display: flex;align-items: stretch;justify-content: center;background-color: white;position: relative;}#sk-container-id-1 div.sk-item::before, #sk-container-id-1 div.sk-parallel-item::before {content: \"\";position: absolute;border-left: 1px solid gray;box-sizing: border-box;top: 0;bottom: 0;left: 50%;z-index: -1;}#sk-container-id-1 div.sk-parallel-item {display: flex;flex-direction: column;z-index: 1;position: relative;background-color: white;}#sk-container-id-1 div.sk-parallel-item:first-child::after {align-self: flex-end;width: 50%;}#sk-container-id-1 div.sk-parallel-item:last-child::after {align-self: flex-start;width: 50%;}#sk-container-id-1 div.sk-parallel-item:only-child::after {width: 0;}#sk-container-id-1 div.sk-dashed-wrapped {border: 1px dashed gray;margin: 0 0.4em 0.5em 0.4em;box-sizing: border-box;padding-bottom: 0.4em;background-color: white;}#sk-container-id-1 div.sk-label label {font-family: monospace;font-weight: bold;display: inline-block;line-height: 1.2em;}#sk-container-id-1 div.sk-label-container {text-align: center;}#sk-container-id-1 div.sk-container {/* jupyter's `normalize.less` sets `[hidden] { display: none; }` but bootstrap.min.css set `[hidden] { display: none !important; }` so we also need the `!important` here to be able to override the default hidden behavior on the sphinx rendered scikit-learn.org. See: https://github.com/scikit-learn/scikit-learn/issues/21755 */display: inline-block !important;position: relative;}#sk-container-id-1 div.sk-text-repr-fallback {display: none;}</style><div id=\"sk-container-id-1\" class=\"sk-top-container\"><div class=\"sk-text-repr-fallback\"><pre>RandomizedSearchCV(cv=4,\n",
       "                   estimator=XGBRegressor(base_score=None, booster=None,\n",
       "                                          colsample_bylevel=None,\n",
       "                                          colsample_bynode=None,\n",
       "                                          colsample_bytree=None,\n",
       "                                          enable_categorical=False, gamma=None,\n",
       "                                          gpu_id=None, importance_type=None,\n",
       "                                          interaction_constraints=None,\n",
       "                                          learning_rate=None,\n",
       "                                          max_delta_step=None, max_depth=None,\n",
       "                                          min_child_weight=None, missing=nan,\n",
       "                                          monotone_constraints=...\n",
       "                                          tree_method=None,\n",
       "                                          validate_parameters=None,\n",
       "                                          verbosity=None),\n",
       "                   n_iter=60, n_jobs=-1,\n",
       "                   param_distributions={&#x27;gamma&#x27;: [0.0, 0.1, 0.2, 0.3, 0.4, 0.5,\n",
       "                                                  0.6, 0.7, 0.8, 0.9],\n",
       "                                        &#x27;learning_rate&#x27;: [0.01, 0.05, 0.1, 1.5,\n",
       "                                                          2, 2.5, 3],\n",
       "                                        &#x27;max_depth&#x27;: [3, 4, 5, 6, 8, 10, 12,\n",
       "                                                      15],\n",
       "                                        &#x27;min_child_weight&#x27;: [1, 3, 5, 7, 9, 11,\n",
       "                                                             13, 15, 17],\n",
       "                                        &#x27;n_estimators&#x27;: [10, 20, 30, 50, 100,\n",
       "                                                         150, 200, 300, 400,\n",
       "                                                         500, 600, 700, 800,\n",
       "                                                         900, 1000]},\n",
       "                   scoring=&#x27;r2&#x27;)</pre><b>In a Jupyter environment, please rerun this cell to show the HTML representation or trust the notebook. <br />On GitHub, the HTML representation is unable to render, please try loading this page with nbviewer.org.</b></div><div class=\"sk-container\" hidden><div class=\"sk-item sk-dashed-wrapped\"><div class=\"sk-label-container\"><div class=\"sk-label sk-toggleable\"><input class=\"sk-toggleable__control sk-hidden--visually\" id=\"sk-estimator-id-1\" type=\"checkbox\" ><label for=\"sk-estimator-id-1\" class=\"sk-toggleable__label sk-toggleable__label-arrow\">RandomizedSearchCV</label><div class=\"sk-toggleable__content\"><pre>RandomizedSearchCV(cv=4,\n",
       "                   estimator=XGBRegressor(base_score=None, booster=None,\n",
       "                                          colsample_bylevel=None,\n",
       "                                          colsample_bynode=None,\n",
       "                                          colsample_bytree=None,\n",
       "                                          enable_categorical=False, gamma=None,\n",
       "                                          gpu_id=None, importance_type=None,\n",
       "                                          interaction_constraints=None,\n",
       "                                          learning_rate=None,\n",
       "                                          max_delta_step=None, max_depth=None,\n",
       "                                          min_child_weight=None, missing=nan,\n",
       "                                          monotone_constraints=...\n",
       "                                          tree_method=None,\n",
       "                                          validate_parameters=None,\n",
       "                                          verbosity=None),\n",
       "                   n_iter=60, n_jobs=-1,\n",
       "                   param_distributions={&#x27;gamma&#x27;: [0.0, 0.1, 0.2, 0.3, 0.4, 0.5,\n",
       "                                                  0.6, 0.7, 0.8, 0.9],\n",
       "                                        &#x27;learning_rate&#x27;: [0.01, 0.05, 0.1, 1.5,\n",
       "                                                          2, 2.5, 3],\n",
       "                                        &#x27;max_depth&#x27;: [3, 4, 5, 6, 8, 10, 12,\n",
       "                                                      15],\n",
       "                                        &#x27;min_child_weight&#x27;: [1, 3, 5, 7, 9, 11,\n",
       "                                                             13, 15, 17],\n",
       "                                        &#x27;n_estimators&#x27;: [10, 20, 30, 50, 100,\n",
       "                                                         150, 200, 300, 400,\n",
       "                                                         500, 600, 700, 800,\n",
       "                                                         900, 1000]},\n",
       "                   scoring=&#x27;r2&#x27;)</pre></div></div></div><div class=\"sk-parallel\"><div class=\"sk-parallel-item\"><div class=\"sk-item\"><div class=\"sk-label-container\"><div class=\"sk-label sk-toggleable\"><input class=\"sk-toggleable__control sk-hidden--visually\" id=\"sk-estimator-id-2\" type=\"checkbox\" ><label for=\"sk-estimator-id-2\" class=\"sk-toggleable__label sk-toggleable__label-arrow\">estimator: XGBRegressor</label><div class=\"sk-toggleable__content\"><pre>XGBRegressor(base_score=None, booster=None, colsample_bylevel=None,\n",
       "             colsample_bynode=None, colsample_bytree=None,\n",
       "             enable_categorical=False, gamma=None, gpu_id=None,\n",
       "             importance_type=None, interaction_constraints=None,\n",
       "             learning_rate=None, max_delta_step=None, max_depth=None,\n",
       "             min_child_weight=None, missing=nan, monotone_constraints=None,\n",
       "             n_estimators=100, n_jobs=None, num_parallel_tree=None,\n",
       "             predictor=None, random_state=None, reg_alpha=None, reg_lambda=None,\n",
       "             scale_pos_weight=None, subsample=None, tree_method=None,\n",
       "             validate_parameters=None, verbosity=None)</pre></div></div></div><div class=\"sk-serial\"><div class=\"sk-item\"><div class=\"sk-estimator sk-toggleable\"><input class=\"sk-toggleable__control sk-hidden--visually\" id=\"sk-estimator-id-3\" type=\"checkbox\" ><label for=\"sk-estimator-id-3\" class=\"sk-toggleable__label sk-toggleable__label-arrow\">XGBRegressor</label><div class=\"sk-toggleable__content\"><pre>XGBRegressor(base_score=None, booster=None, colsample_bylevel=None,\n",
       "             colsample_bynode=None, colsample_bytree=None,\n",
       "             enable_categorical=False, gamma=None, gpu_id=None,\n",
       "             importance_type=None, interaction_constraints=None,\n",
       "             learning_rate=None, max_delta_step=None, max_depth=None,\n",
       "             min_child_weight=None, missing=nan, monotone_constraints=None,\n",
       "             n_estimators=100, n_jobs=None, num_parallel_tree=None,\n",
       "             predictor=None, random_state=None, reg_alpha=None, reg_lambda=None,\n",
       "             scale_pos_weight=None, subsample=None, tree_method=None,\n",
       "             validate_parameters=None, verbosity=None)</pre></div></div></div></div></div></div></div></div></div></div>"
      ],
      "text/plain": [
       "RandomizedSearchCV(cv=4,\n",
       "                   estimator=XGBRegressor(base_score=None, booster=None,\n",
       "                                          colsample_bylevel=None,\n",
       "                                          colsample_bynode=None,\n",
       "                                          colsample_bytree=None,\n",
       "                                          enable_categorical=False, gamma=None,\n",
       "                                          gpu_id=None, importance_type=None,\n",
       "                                          interaction_constraints=None,\n",
       "                                          learning_rate=None,\n",
       "                                          max_delta_step=None, max_depth=None,\n",
       "                                          min_child_weight=None, missing=nan,\n",
       "                                          monotone_constraints=...\n",
       "                                          tree_method=None,\n",
       "                                          validate_parameters=None,\n",
       "                                          verbosity=None),\n",
       "                   n_iter=60, n_jobs=-1,\n",
       "                   param_distributions={'gamma': [0.0, 0.1, 0.2, 0.3, 0.4, 0.5,\n",
       "                                                  0.6, 0.7, 0.8, 0.9],\n",
       "                                        'learning_rate': [0.01, 0.05, 0.1, 1.5,\n",
       "                                                          2, 2.5, 3],\n",
       "                                        'max_depth': [3, 4, 5, 6, 8, 10, 12,\n",
       "                                                      15],\n",
       "                                        'min_child_weight': [1, 3, 5, 7, 9, 11,\n",
       "                                                             13, 15, 17],\n",
       "                                        'n_estimators': [10, 20, 30, 50, 100,\n",
       "                                                         150, 200, 300, 400,\n",
       "                                                         500, 600, 700, 800,\n",
       "                                                         900, 1000]},\n",
       "                   scoring='r2')"
      ]
     },
     "execution_count": 27,
     "metadata": {},
     "output_type": "execute_result"
    }
   ],
   "source": [
    "from sklearn.model_selection import RandomizedSearchCV\n",
    "params = {\n",
    " \"learning_rate\" : [0.01,0.05,0.1, 1.5, 2, 2.5, 3],\n",
    " \"max_depth\" : [3, 4, 5, 6, 8, 10, 12, 15],\n",
    " \"min_child_weight\" : [ 1, 3, 5, 7, 9, 11, 13, 15, 17],\n",
    " \"gamma\" : [ 0.0, 0.1, 0.2 , 0.3, 0.4, 0.5, 0.6, 0.7, 0.8, 0.9 ],\n",
    " \"n_estimators\" : [10, 20, 30, 50, 100, 150, 200, 300, 400, 500, 600, 700, 800, 900 ,1000]  # 반복횟수,\n",
    "#  \"subsample\" = \n",
    "}\n",
    "n_iter_search = 60\n",
    "xgb_random = RandomizedSearchCV(xgb,    # 모델\n",
    "                                param_distributions=params,   # 파라미터 조합\n",
    "                                n_iter=n_iter_search,   \n",
    "                                scoring= 'r2',\n",
    "                                cv=4,   # cross validation의 fold 개수\n",
    "                                n_jobs=-1) \n",
    "xgb_random.fit(X_train,y_train)"
   ]
  },
  {
   "cell_type": "code",
   "execution_count": 28,
   "id": "f089017e",
   "metadata": {
    "ExecuteTime": {
     "end_time": "2022-07-19T07:20:10.104164Z",
     "start_time": "2022-07-19T07:20:10.089203Z"
    }
   },
   "outputs": [
    {
     "data": {
      "text/plain": [
       "0.8925483492950456"
      ]
     },
     "execution_count": 28,
     "metadata": {},
     "output_type": "execute_result"
    }
   ],
   "source": [
    "# best model 조회\n",
    "xgb_random.best_score_"
   ]
  },
  {
   "cell_type": "code",
   "execution_count": 29,
   "id": "e1af3b2a",
   "metadata": {
    "ExecuteTime": {
     "end_time": "2022-07-19T07:20:11.427282Z",
     "start_time": "2022-07-19T07:20:11.415299Z"
    }
   },
   "outputs": [
    {
     "data": {
      "text/plain": [
       "{'n_estimators': 900,\n",
       " 'min_child_weight': 5,\n",
       " 'max_depth': 6,\n",
       " 'learning_rate': 0.05,\n",
       " 'gamma': 0.2}"
      ]
     },
     "execution_count": 29,
     "metadata": {},
     "output_type": "execute_result"
    }
   ],
   "source": [
    "# best parameger 조회\n",
    "xgb_random.best_params_"
   ]
  },
  {
   "cell_type": "markdown",
   "id": "08d64ec1",
   "metadata": {},
   "source": [
    "- 검증 결과 조회"
   ]
  },
  {
   "cell_type": "code",
   "execution_count": 30,
   "id": "15bd6534",
   "metadata": {
    "ExecuteTime": {
     "end_time": "2022-07-19T07:20:15.349113Z",
     "start_time": "2022-07-19T07:20:15.326175Z"
    }
   },
   "outputs": [
    {
     "name": "stdout",
     "output_type": "stream",
     "text": [
      "train_mse :  0.09272273076431516\n",
      "train_r2 :  0.9947429468697966\n",
      "test_mse :  2.9874656425159887\n",
      "test_r2 :  0.9192492365863004\n"
     ]
    }
   ],
   "source": [
    "best = xgb_random.best_estimator_\n",
    "\n",
    "pred_train = best.predict(X_train)\n",
    "pred_test = best.predict(X_test)\n",
    "\n",
    "print('train_mse : ',mean_squared_error(y_train, pred_train))\n",
    "print('train_r2 : ',r2_score(y_train, pred_train))\n",
    "print('test_mse : ',mean_squared_error(y_test, pred_test))\n",
    "print('test_r2 : ',r2_score(y_test, pred_test))"
   ]
  },
  {
   "cell_type": "markdown",
   "id": "d3d195c8",
   "metadata": {},
   "source": [
    "# 개선방향\n",
    ">\n",
    "- Data 전처리\n",
    "  - Feature들의 특징, 특성 등을 파악하는 것이 학습에 있어 가장 중요하며 이 부분들에 대해 조금 더 심도있는 생각과 분석 필요하다 생각한다\n",
    "- Model 학습\n",
    "  - parameter search에만 집중해 그냥 Grid, Random search에만 집중했던 것 같다\n",
    "  - search도 물론 중요하지만 Data 전처리에서 언급했던 것처럼 Data 분석을 성공적으로 마치고 방향성을 잡고 학습하는 것도 물론 중요하다 생각\n",
    "- 검증\n",
    "  - 학습 후 검증 결과를 분석하며 어떤 과적합이며 어떤 방향으로 Model parameter를 수정해야하는지에 대해 더 공부할 필요 있다고 느낌\n",
    "    - 과대적합인 경우, 어떤 parameter를 이용해 underfittng시킬 것인지 등"
   ]
  }
 ],
 "metadata": {
  "kernelspec": {
   "display_name": "Python 3 (ipykernel)",
   "language": "python",
   "name": "python3"
  },
  "language_info": {
   "codemirror_mode": {
    "name": "ipython",
    "version": 3
   },
   "file_extension": ".py",
   "mimetype": "text/x-python",
   "name": "python",
   "nbconvert_exporter": "python",
   "pygments_lexer": "ipython3",
   "version": "3.9.12"
  }
 },
 "nbformat": 4,
 "nbformat_minor": 5
}
