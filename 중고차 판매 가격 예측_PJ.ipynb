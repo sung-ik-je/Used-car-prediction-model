{
 "cells": [
  {
   "cell_type": "markdown",
   "id": "49cd2f7c",
   "metadata": {},
   "source": [
    "# Data load 및 분석\n",
    "- 목적 : 중고차 예상 판매가격 예측\n",
    "- Data 출처 : https://www.kaggle.com/datasets/nehalbirla/vehicle-dataset-from-cardekho?select=CAR+DETAILS+FROM+CAR+DEKHO.csv"
   ]
  },
  {
   "cell_type": "code",
   "execution_count": 27,
   "id": "03d15957",
   "metadata": {
    "ExecuteTime": {
     "end_time": "2022-07-22T07:19:45.243922Z",
     "start_time": "2022-07-22T07:19:45.215001Z"
    }
   },
   "outputs": [
    {
     "data": {
      "text/html": [
       "<div>\n",
       "<style scoped>\n",
       "    .dataframe tbody tr th:only-of-type {\n",
       "        vertical-align: middle;\n",
       "    }\n",
       "\n",
       "    .dataframe tbody tr th {\n",
       "        vertical-align: top;\n",
       "    }\n",
       "\n",
       "    .dataframe thead th {\n",
       "        text-align: right;\n",
       "    }\n",
       "</style>\n",
       "<table border=\"1\" class=\"dataframe\">\n",
       "  <thead>\n",
       "    <tr style=\"text-align: right;\">\n",
       "      <th></th>\n",
       "      <th>Car_Name</th>\n",
       "      <th>Year</th>\n",
       "      <th>Selling_Price</th>\n",
       "      <th>Present_Price</th>\n",
       "      <th>Kms_Driven</th>\n",
       "      <th>Fuel_Type</th>\n",
       "      <th>Seller_Type</th>\n",
       "      <th>Transmission</th>\n",
       "      <th>Owner</th>\n",
       "    </tr>\n",
       "  </thead>\n",
       "  <tbody>\n",
       "    <tr>\n",
       "      <th>0</th>\n",
       "      <td>ritz</td>\n",
       "      <td>2014</td>\n",
       "      <td>3.35</td>\n",
       "      <td>5.59</td>\n",
       "      <td>27000</td>\n",
       "      <td>Petrol</td>\n",
       "      <td>Dealer</td>\n",
       "      <td>Manual</td>\n",
       "      <td>0</td>\n",
       "    </tr>\n",
       "    <tr>\n",
       "      <th>1</th>\n",
       "      <td>sx4</td>\n",
       "      <td>2013</td>\n",
       "      <td>4.75</td>\n",
       "      <td>9.54</td>\n",
       "      <td>43000</td>\n",
       "      <td>Diesel</td>\n",
       "      <td>Dealer</td>\n",
       "      <td>Manual</td>\n",
       "      <td>0</td>\n",
       "    </tr>\n",
       "    <tr>\n",
       "      <th>2</th>\n",
       "      <td>ciaz</td>\n",
       "      <td>2017</td>\n",
       "      <td>7.25</td>\n",
       "      <td>9.85</td>\n",
       "      <td>6900</td>\n",
       "      <td>Petrol</td>\n",
       "      <td>Dealer</td>\n",
       "      <td>Manual</td>\n",
       "      <td>0</td>\n",
       "    </tr>\n",
       "    <tr>\n",
       "      <th>3</th>\n",
       "      <td>wagon r</td>\n",
       "      <td>2011</td>\n",
       "      <td>2.85</td>\n",
       "      <td>4.15</td>\n",
       "      <td>5200</td>\n",
       "      <td>Petrol</td>\n",
       "      <td>Dealer</td>\n",
       "      <td>Manual</td>\n",
       "      <td>0</td>\n",
       "    </tr>\n",
       "    <tr>\n",
       "      <th>4</th>\n",
       "      <td>swift</td>\n",
       "      <td>2014</td>\n",
       "      <td>4.60</td>\n",
       "      <td>6.87</td>\n",
       "      <td>42450</td>\n",
       "      <td>Diesel</td>\n",
       "      <td>Dealer</td>\n",
       "      <td>Manual</td>\n",
       "      <td>0</td>\n",
       "    </tr>\n",
       "    <tr>\n",
       "      <th>...</th>\n",
       "      <td>...</td>\n",
       "      <td>...</td>\n",
       "      <td>...</td>\n",
       "      <td>...</td>\n",
       "      <td>...</td>\n",
       "      <td>...</td>\n",
       "      <td>...</td>\n",
       "      <td>...</td>\n",
       "      <td>...</td>\n",
       "    </tr>\n",
       "    <tr>\n",
       "      <th>296</th>\n",
       "      <td>city</td>\n",
       "      <td>2016</td>\n",
       "      <td>9.50</td>\n",
       "      <td>11.60</td>\n",
       "      <td>33988</td>\n",
       "      <td>Diesel</td>\n",
       "      <td>Dealer</td>\n",
       "      <td>Manual</td>\n",
       "      <td>0</td>\n",
       "    </tr>\n",
       "    <tr>\n",
       "      <th>297</th>\n",
       "      <td>brio</td>\n",
       "      <td>2015</td>\n",
       "      <td>4.00</td>\n",
       "      <td>5.90</td>\n",
       "      <td>60000</td>\n",
       "      <td>Petrol</td>\n",
       "      <td>Dealer</td>\n",
       "      <td>Manual</td>\n",
       "      <td>0</td>\n",
       "    </tr>\n",
       "    <tr>\n",
       "      <th>298</th>\n",
       "      <td>city</td>\n",
       "      <td>2009</td>\n",
       "      <td>3.35</td>\n",
       "      <td>11.00</td>\n",
       "      <td>87934</td>\n",
       "      <td>Petrol</td>\n",
       "      <td>Dealer</td>\n",
       "      <td>Manual</td>\n",
       "      <td>0</td>\n",
       "    </tr>\n",
       "    <tr>\n",
       "      <th>299</th>\n",
       "      <td>city</td>\n",
       "      <td>2017</td>\n",
       "      <td>11.50</td>\n",
       "      <td>12.50</td>\n",
       "      <td>9000</td>\n",
       "      <td>Diesel</td>\n",
       "      <td>Dealer</td>\n",
       "      <td>Manual</td>\n",
       "      <td>0</td>\n",
       "    </tr>\n",
       "    <tr>\n",
       "      <th>300</th>\n",
       "      <td>brio</td>\n",
       "      <td>2016</td>\n",
       "      <td>5.30</td>\n",
       "      <td>5.90</td>\n",
       "      <td>5464</td>\n",
       "      <td>Petrol</td>\n",
       "      <td>Dealer</td>\n",
       "      <td>Manual</td>\n",
       "      <td>0</td>\n",
       "    </tr>\n",
       "  </tbody>\n",
       "</table>\n",
       "<p>301 rows × 9 columns</p>\n",
       "</div>"
      ],
      "text/plain": [
       "    Car_Name  Year  Selling_Price  Present_Price  Kms_Driven Fuel_Type  \\\n",
       "0       ritz  2014           3.35           5.59       27000    Petrol   \n",
       "1        sx4  2013           4.75           9.54       43000    Diesel   \n",
       "2       ciaz  2017           7.25           9.85        6900    Petrol   \n",
       "3    wagon r  2011           2.85           4.15        5200    Petrol   \n",
       "4      swift  2014           4.60           6.87       42450    Diesel   \n",
       "..       ...   ...            ...            ...         ...       ...   \n",
       "296     city  2016           9.50          11.60       33988    Diesel   \n",
       "297     brio  2015           4.00           5.90       60000    Petrol   \n",
       "298     city  2009           3.35          11.00       87934    Petrol   \n",
       "299     city  2017          11.50          12.50        9000    Diesel   \n",
       "300     brio  2016           5.30           5.90        5464    Petrol   \n",
       "\n",
       "    Seller_Type Transmission  Owner  \n",
       "0        Dealer       Manual      0  \n",
       "1        Dealer       Manual      0  \n",
       "2        Dealer       Manual      0  \n",
       "3        Dealer       Manual      0  \n",
       "4        Dealer       Manual      0  \n",
       "..          ...          ...    ...  \n",
       "296      Dealer       Manual      0  \n",
       "297      Dealer       Manual      0  \n",
       "298      Dealer       Manual      0  \n",
       "299      Dealer       Manual      0  \n",
       "300      Dealer       Manual      0  \n",
       "\n",
       "[301 rows x 9 columns]"
      ]
     },
     "execution_count": 27,
     "metadata": {},
     "output_type": "execute_result"
    }
   ],
   "source": [
    "import pandas as pd\n",
    "import numpy as np\n",
    "df = pd.read_csv('data/car_data.csv')\n",
    "df"
   ]
  },
  {
   "cell_type": "markdown",
   "id": "b014a732",
   "metadata": {},
   "source": [
    "# Data 전처리\n",
    "1. 필요 없는 Feature 분리\n",
    "2. 이상치, 결측치 확인 및 수정\n",
    "3. Feature, Label 분리 및 Data encoding, scaling\n",
    "  - 범주형의 경우 pandas의 get_dummies() 함수 이용해 One-Hot Encoding\n",
    "  - 연속형의 경우 앙상블을 위해 Feature Scaling  \n",
    "  - KNN, linear regression은 Feature Scaling 필요\n",
    "  - Random Forest, XGBoost는 필요 X\n",
    "4. Train, Test set분리"
   ]
  },
  {
   "cell_type": "markdown",
   "id": "ac9594ac",
   "metadata": {},
   "source": [
    "## 1. 불필요한 column 분리"
   ]
  },
  {
   "cell_type": "code",
   "execution_count": 28,
   "id": "a7198de1",
   "metadata": {
    "ExecuteTime": {
     "end_time": "2022-07-22T07:19:45.755719Z",
     "start_time": "2022-07-22T07:19:45.729789Z"
    }
   },
   "outputs": [
    {
     "data": {
      "text/html": [
       "<div>\n",
       "<style scoped>\n",
       "    .dataframe tbody tr th:only-of-type {\n",
       "        vertical-align: middle;\n",
       "    }\n",
       "\n",
       "    .dataframe tbody tr th {\n",
       "        vertical-align: top;\n",
       "    }\n",
       "\n",
       "    .dataframe thead th {\n",
       "        text-align: right;\n",
       "    }\n",
       "</style>\n",
       "<table border=\"1\" class=\"dataframe\">\n",
       "  <thead>\n",
       "    <tr style=\"text-align: right;\">\n",
       "      <th></th>\n",
       "      <th>Year</th>\n",
       "      <th>Selling_Price</th>\n",
       "      <th>Present_Price</th>\n",
       "      <th>Kms_Driven</th>\n",
       "      <th>Fuel_Type</th>\n",
       "      <th>Seller_Type</th>\n",
       "      <th>Transmission</th>\n",
       "      <th>Owner</th>\n",
       "    </tr>\n",
       "    <tr>\n",
       "      <th>Car_Name</th>\n",
       "      <th></th>\n",
       "      <th></th>\n",
       "      <th></th>\n",
       "      <th></th>\n",
       "      <th></th>\n",
       "      <th></th>\n",
       "      <th></th>\n",
       "      <th></th>\n",
       "    </tr>\n",
       "  </thead>\n",
       "  <tbody>\n",
       "    <tr>\n",
       "      <th>ritz</th>\n",
       "      <td>2014</td>\n",
       "      <td>3.35</td>\n",
       "      <td>5.59</td>\n",
       "      <td>27000</td>\n",
       "      <td>Petrol</td>\n",
       "      <td>Dealer</td>\n",
       "      <td>Manual</td>\n",
       "      <td>0</td>\n",
       "    </tr>\n",
       "    <tr>\n",
       "      <th>sx4</th>\n",
       "      <td>2013</td>\n",
       "      <td>4.75</td>\n",
       "      <td>9.54</td>\n",
       "      <td>43000</td>\n",
       "      <td>Diesel</td>\n",
       "      <td>Dealer</td>\n",
       "      <td>Manual</td>\n",
       "      <td>0</td>\n",
       "    </tr>\n",
       "    <tr>\n",
       "      <th>ciaz</th>\n",
       "      <td>2017</td>\n",
       "      <td>7.25</td>\n",
       "      <td>9.85</td>\n",
       "      <td>6900</td>\n",
       "      <td>Petrol</td>\n",
       "      <td>Dealer</td>\n",
       "      <td>Manual</td>\n",
       "      <td>0</td>\n",
       "    </tr>\n",
       "    <tr>\n",
       "      <th>wagon r</th>\n",
       "      <td>2011</td>\n",
       "      <td>2.85</td>\n",
       "      <td>4.15</td>\n",
       "      <td>5200</td>\n",
       "      <td>Petrol</td>\n",
       "      <td>Dealer</td>\n",
       "      <td>Manual</td>\n",
       "      <td>0</td>\n",
       "    </tr>\n",
       "    <tr>\n",
       "      <th>swift</th>\n",
       "      <td>2014</td>\n",
       "      <td>4.60</td>\n",
       "      <td>6.87</td>\n",
       "      <td>42450</td>\n",
       "      <td>Diesel</td>\n",
       "      <td>Dealer</td>\n",
       "      <td>Manual</td>\n",
       "      <td>0</td>\n",
       "    </tr>\n",
       "    <tr>\n",
       "      <th>...</th>\n",
       "      <td>...</td>\n",
       "      <td>...</td>\n",
       "      <td>...</td>\n",
       "      <td>...</td>\n",
       "      <td>...</td>\n",
       "      <td>...</td>\n",
       "      <td>...</td>\n",
       "      <td>...</td>\n",
       "    </tr>\n",
       "    <tr>\n",
       "      <th>city</th>\n",
       "      <td>2016</td>\n",
       "      <td>9.50</td>\n",
       "      <td>11.60</td>\n",
       "      <td>33988</td>\n",
       "      <td>Diesel</td>\n",
       "      <td>Dealer</td>\n",
       "      <td>Manual</td>\n",
       "      <td>0</td>\n",
       "    </tr>\n",
       "    <tr>\n",
       "      <th>brio</th>\n",
       "      <td>2015</td>\n",
       "      <td>4.00</td>\n",
       "      <td>5.90</td>\n",
       "      <td>60000</td>\n",
       "      <td>Petrol</td>\n",
       "      <td>Dealer</td>\n",
       "      <td>Manual</td>\n",
       "      <td>0</td>\n",
       "    </tr>\n",
       "    <tr>\n",
       "      <th>city</th>\n",
       "      <td>2009</td>\n",
       "      <td>3.35</td>\n",
       "      <td>11.00</td>\n",
       "      <td>87934</td>\n",
       "      <td>Petrol</td>\n",
       "      <td>Dealer</td>\n",
       "      <td>Manual</td>\n",
       "      <td>0</td>\n",
       "    </tr>\n",
       "    <tr>\n",
       "      <th>city</th>\n",
       "      <td>2017</td>\n",
       "      <td>11.50</td>\n",
       "      <td>12.50</td>\n",
       "      <td>9000</td>\n",
       "      <td>Diesel</td>\n",
       "      <td>Dealer</td>\n",
       "      <td>Manual</td>\n",
       "      <td>0</td>\n",
       "    </tr>\n",
       "    <tr>\n",
       "      <th>brio</th>\n",
       "      <td>2016</td>\n",
       "      <td>5.30</td>\n",
       "      <td>5.90</td>\n",
       "      <td>5464</td>\n",
       "      <td>Petrol</td>\n",
       "      <td>Dealer</td>\n",
       "      <td>Manual</td>\n",
       "      <td>0</td>\n",
       "    </tr>\n",
       "  </tbody>\n",
       "</table>\n",
       "<p>301 rows × 8 columns</p>\n",
       "</div>"
      ],
      "text/plain": [
       "          Year  Selling_Price  Present_Price  Kms_Driven Fuel_Type  \\\n",
       "Car_Name                                                             \n",
       "ritz      2014           3.35           5.59       27000    Petrol   \n",
       "sx4       2013           4.75           9.54       43000    Diesel   \n",
       "ciaz      2017           7.25           9.85        6900    Petrol   \n",
       "wagon r   2011           2.85           4.15        5200    Petrol   \n",
       "swift     2014           4.60           6.87       42450    Diesel   \n",
       "...        ...            ...            ...         ...       ...   \n",
       "city      2016           9.50          11.60       33988    Diesel   \n",
       "brio      2015           4.00           5.90       60000    Petrol   \n",
       "city      2009           3.35          11.00       87934    Petrol   \n",
       "city      2017          11.50          12.50        9000    Diesel   \n",
       "brio      2016           5.30           5.90        5464    Petrol   \n",
       "\n",
       "         Seller_Type Transmission  Owner  \n",
       "Car_Name                                  \n",
       "ritz          Dealer       Manual      0  \n",
       "sx4           Dealer       Manual      0  \n",
       "ciaz          Dealer       Manual      0  \n",
       "wagon r       Dealer       Manual      0  \n",
       "swift         Dealer       Manual      0  \n",
       "...              ...          ...    ...  \n",
       "city          Dealer       Manual      0  \n",
       "brio          Dealer       Manual      0  \n",
       "city          Dealer       Manual      0  \n",
       "city          Dealer       Manual      0  \n",
       "brio          Dealer       Manual      0  \n",
       "\n",
       "[301 rows x 8 columns]"
      ]
     },
     "execution_count": 28,
     "metadata": {},
     "output_type": "execute_result"
    }
   ],
   "source": [
    "df.set_index('Car_Name', inplace = True)\n",
    "df"
   ]
  },
  {
   "cell_type": "markdown",
   "id": "f51325a7",
   "metadata": {},
   "source": [
    "## 2. 이상치 , 결측치 확인 및 제거\n",
    "- 이상치 제거의 경우 큰 효과 보지못함"
   ]
  },
  {
   "cell_type": "code",
   "execution_count": 29,
   "id": "14b8ffa4",
   "metadata": {
    "ExecuteTime": {
     "end_time": "2022-07-22T07:19:46.161095Z",
     "start_time": "2022-07-22T07:19:46.059363Z"
    }
   },
   "outputs": [
    {
     "data": {
      "image/png": "[encoded data removed]",
      "text/plain": [
       "<Figure size 720x720 with 1 Axes>"
      ]
     },
     "metadata": {
      "needs_background": "light"
     },
     "output_type": "display_data"
    }
   ],
   "source": [
    "import seaborn as sns\n",
    "import matplotlib.pyplot as plt\n",
    "plt.figure(figsize=(10,10))\n",
    "sns.boxplot(y='Present_Price', data=df)\n",
    "plt.show()"
   ]
  },
  {
   "cell_type": "code",
   "execution_count": 30,
   "id": "f5e80e4e",
   "metadata": {
    "ExecuteTime": {
     "end_time": "2022-07-22T07:19:46.317930Z",
     "start_time": "2022-07-22T07:19:46.219651Z"
    }
   },
   "outputs": [
    {
     "data": {
      "image/png": "[encoded data removed]",
      "text/plain": [
       "<Figure size 720x720 with 1 Axes>"
      ]
     },
     "metadata": {
      "needs_background": "light"
     },
     "output_type": "display_data"
    }
   ],
   "source": [
    "import seaborn as sns\n",
    "import matplotlib.pyplot as plt\n",
    "plt.figure(figsize=(10,10))\n",
    "sns.boxplot(y='Kms_Driven', data=df)\n",
    "plt.show()"
   ]
  },
  {
   "cell_type": "code",
   "execution_count": 31,
   "id": "f74e9d04",
   "metadata": {
    "ExecuteTime": {
     "end_time": "2022-07-22T07:19:46.409825Z",
     "start_time": "2022-07-22T07:19:46.386887Z"
    }
   },
   "outputs": [
    {
     "data": {
      "text/html": [
       "<div>\n",
       "<style scoped>\n",
       "    .dataframe tbody tr th:only-of-type {\n",
       "        vertical-align: middle;\n",
       "    }\n",
       "\n",
       "    .dataframe tbody tr th {\n",
       "        vertical-align: top;\n",
       "    }\n",
       "\n",
       "    .dataframe thead th {\n",
       "        text-align: right;\n",
       "    }\n",
       "</style>\n",
       "<table border=\"1\" class=\"dataframe\">\n",
       "  <thead>\n",
       "    <tr style=\"text-align: right;\">\n",
       "      <th></th>\n",
       "      <th>Year</th>\n",
       "      <th>Selling_Price</th>\n",
       "      <th>Present_Price</th>\n",
       "      <th>Kms_Driven</th>\n",
       "      <th>Fuel_Type</th>\n",
       "      <th>Seller_Type</th>\n",
       "      <th>Transmission</th>\n",
       "      <th>Owner</th>\n",
       "    </tr>\n",
       "    <tr>\n",
       "      <th>Car_Name</th>\n",
       "      <th></th>\n",
       "      <th></th>\n",
       "      <th></th>\n",
       "      <th></th>\n",
       "      <th></th>\n",
       "      <th></th>\n",
       "      <th></th>\n",
       "      <th></th>\n",
       "    </tr>\n",
       "  </thead>\n",
       "  <tbody>\n",
       "    <tr>\n",
       "      <th>ritz</th>\n",
       "      <td>2014</td>\n",
       "      <td>3.35</td>\n",
       "      <td>5.59</td>\n",
       "      <td>27000</td>\n",
       "      <td>Petrol</td>\n",
       "      <td>Dealer</td>\n",
       "      <td>Manual</td>\n",
       "      <td>0</td>\n",
       "    </tr>\n",
       "    <tr>\n",
       "      <th>sx4</th>\n",
       "      <td>2013</td>\n",
       "      <td>4.75</td>\n",
       "      <td>9.54</td>\n",
       "      <td>43000</td>\n",
       "      <td>Diesel</td>\n",
       "      <td>Dealer</td>\n",
       "      <td>Manual</td>\n",
       "      <td>0</td>\n",
       "    </tr>\n",
       "    <tr>\n",
       "      <th>ciaz</th>\n",
       "      <td>2017</td>\n",
       "      <td>7.25</td>\n",
       "      <td>9.85</td>\n",
       "      <td>6900</td>\n",
       "      <td>Petrol</td>\n",
       "      <td>Dealer</td>\n",
       "      <td>Manual</td>\n",
       "      <td>0</td>\n",
       "    </tr>\n",
       "    <tr>\n",
       "      <th>wagon r</th>\n",
       "      <td>2011</td>\n",
       "      <td>2.85</td>\n",
       "      <td>4.15</td>\n",
       "      <td>5200</td>\n",
       "      <td>Petrol</td>\n",
       "      <td>Dealer</td>\n",
       "      <td>Manual</td>\n",
       "      <td>0</td>\n",
       "    </tr>\n",
       "    <tr>\n",
       "      <th>swift</th>\n",
       "      <td>2014</td>\n",
       "      <td>4.60</td>\n",
       "      <td>6.87</td>\n",
       "      <td>42450</td>\n",
       "      <td>Diesel</td>\n",
       "      <td>Dealer</td>\n",
       "      <td>Manual</td>\n",
       "      <td>0</td>\n",
       "    </tr>\n",
       "    <tr>\n",
       "      <th>...</th>\n",
       "      <td>...</td>\n",
       "      <td>...</td>\n",
       "      <td>...</td>\n",
       "      <td>...</td>\n",
       "      <td>...</td>\n",
       "      <td>...</td>\n",
       "      <td>...</td>\n",
       "      <td>...</td>\n",
       "    </tr>\n",
       "    <tr>\n",
       "      <th>city</th>\n",
       "      <td>2016</td>\n",
       "      <td>9.50</td>\n",
       "      <td>11.60</td>\n",
       "      <td>33988</td>\n",
       "      <td>Diesel</td>\n",
       "      <td>Dealer</td>\n",
       "      <td>Manual</td>\n",
       "      <td>0</td>\n",
       "    </tr>\n",
       "    <tr>\n",
       "      <th>brio</th>\n",
       "      <td>2015</td>\n",
       "      <td>4.00</td>\n",
       "      <td>5.90</td>\n",
       "      <td>60000</td>\n",
       "      <td>Petrol</td>\n",
       "      <td>Dealer</td>\n",
       "      <td>Manual</td>\n",
       "      <td>0</td>\n",
       "    </tr>\n",
       "    <tr>\n",
       "      <th>city</th>\n",
       "      <td>2009</td>\n",
       "      <td>3.35</td>\n",
       "      <td>11.00</td>\n",
       "      <td>87934</td>\n",
       "      <td>Petrol</td>\n",
       "      <td>Dealer</td>\n",
       "      <td>Manual</td>\n",
       "      <td>0</td>\n",
       "    </tr>\n",
       "    <tr>\n",
       "      <th>city</th>\n",
       "      <td>2017</td>\n",
       "      <td>11.50</td>\n",
       "      <td>12.50</td>\n",
       "      <td>9000</td>\n",
       "      <td>Diesel</td>\n",
       "      <td>Dealer</td>\n",
       "      <td>Manual</td>\n",
       "      <td>0</td>\n",
       "    </tr>\n",
       "    <tr>\n",
       "      <th>brio</th>\n",
       "      <td>2016</td>\n",
       "      <td>5.30</td>\n",
       "      <td>5.90</td>\n",
       "      <td>5464</td>\n",
       "      <td>Petrol</td>\n",
       "      <td>Dealer</td>\n",
       "      <td>Manual</td>\n",
       "      <td>0</td>\n",
       "    </tr>\n",
       "  </tbody>\n",
       "</table>\n",
       "<p>299 rows × 8 columns</p>\n",
       "</div>"
      ],
      "text/plain": [
       "          Year  Selling_Price  Present_Price  Kms_Driven Fuel_Type  \\\n",
       "Car_Name                                                             \n",
       "ritz      2014           3.35           5.59       27000    Petrol   \n",
       "sx4       2013           4.75           9.54       43000    Diesel   \n",
       "ciaz      2017           7.25           9.85        6900    Petrol   \n",
       "wagon r   2011           2.85           4.15        5200    Petrol   \n",
       "swift     2014           4.60           6.87       42450    Diesel   \n",
       "...        ...            ...            ...         ...       ...   \n",
       "city      2016           9.50          11.60       33988    Diesel   \n",
       "brio      2015           4.00           5.90       60000    Petrol   \n",
       "city      2009           3.35          11.00       87934    Petrol   \n",
       "city      2017          11.50          12.50        9000    Diesel   \n",
       "brio      2016           5.30           5.90        5464    Petrol   \n",
       "\n",
       "         Seller_Type Transmission  Owner  \n",
       "Car_Name                                  \n",
       "ritz          Dealer       Manual      0  \n",
       "sx4           Dealer       Manual      0  \n",
       "ciaz          Dealer       Manual      0  \n",
       "wagon r       Dealer       Manual      0  \n",
       "swift         Dealer       Manual      0  \n",
       "...              ...          ...    ...  \n",
       "city          Dealer       Manual      0  \n",
       "brio          Dealer       Manual      0  \n",
       "city          Dealer       Manual      0  \n",
       "city          Dealer       Manual      0  \n",
       "brio          Dealer       Manual      0  \n",
       "\n",
       "[299 rows x 8 columns]"
      ]
     },
     "execution_count": 31,
     "metadata": {},
     "output_type": "execute_result"
    }
   ],
   "source": [
    "# max값 이상치 취급, 제거\n",
    "df['Present_Price'].max()\n",
    "df1 = df.drop(df[df['Present_Price'] >=90].index)\n",
    "df1 = df.drop(df[df['Kms_Driven'] >=400000].index)\n",
    "df1['Present_Price'].max()\n",
    "df1"
   ]
  },
  {
   "cell_type": "code",
   "execution_count": 32,
   "id": "fb20f6e5",
   "metadata": {
    "ExecuteTime": {
     "end_time": "2022-07-22T07:19:46.562827Z",
     "start_time": "2022-07-22T07:19:46.546900Z"
    }
   },
   "outputs": [
    {
     "data": {
      "text/plain": [
       "Year             299\n",
       "Selling_Price    299\n",
       "Present_Price    299\n",
       "Kms_Driven       299\n",
       "Fuel_Type        299\n",
       "Seller_Type      299\n",
       "Transmission     299\n",
       "Owner            299\n",
       "dtype: int64"
      ]
     },
     "execution_count": 32,
     "metadata": {},
     "output_type": "execute_result"
    }
   ],
   "source": [
    "# 결측치 X\n",
    "df1.isnull().count()"
   ]
  },
  {
   "cell_type": "markdown",
   "id": "e8d74883",
   "metadata": {},
   "source": [
    "## 3. Feature, Label 분리 및 Data encoding, scaling"
   ]
  },
  {
   "cell_type": "markdown",
   "id": "b39c9141",
   "metadata": {},
   "source": [
    "## Data type 확인\n",
    "  ### Feature\n",
    "  - Car_Name : 차량 이름 : index로 설정\n",
    "  - 범주형\n",
    "    - Year : 차 구매년도, 2004년~15년까지의 value \n",
    "    - Fuel_Type : 기름 종류, (Petrol, Diesel, CNG) 총 3가지 종류  \n",
    "    - Seller_Type : 판매자, (Individual, Dealer) 2가지\n",
    "    - Transmission : 기어 변속기 종류, (Manual, Automatic) 2가지\n",
    "    - Owner : 차량의 이전 소유자 수 (0, 1, 3), 3가지\n",
    "  - 연속형\n",
    "    - Kms_Driven : 달린 거리\n",
    "    - Present_Price\t: 현재 가격 \n",
    "  \n",
    "  ### Label\n",
    "  - Selling_Price : 중고차 판매가격으로 예측해야되는 연속적인 값"
   ]
  },
  {
   "cell_type": "code",
   "execution_count": 33,
   "id": "034a85a3",
   "metadata": {
    "ExecuteTime": {
     "end_time": "2022-07-22T07:19:47.028904Z",
     "start_time": "2022-07-22T07:19:47.017933Z"
    }
   },
   "outputs": [
    {
     "data": {
      "text/plain": [
       "0    290\n",
       "1     10\n",
       "3      1\n",
       "Name: Owner, dtype: int64"
      ]
     },
     "execution_count": 33,
     "metadata": {},
     "output_type": "execute_result"
    }
   ],
   "source": [
    "df.Year.value_counts()\n",
    "df.Fuel_Type.value_counts()\n",
    "df.Seller_Type.value_counts()\n",
    "df.Transmission.value_counts()\n",
    "df.Owner.value_counts()"
   ]
  },
  {
   "cell_type": "code",
   "execution_count": 34,
   "id": "fd3229e6",
   "metadata": {
    "ExecuteTime": {
     "end_time": "2022-07-22T07:19:47.198761Z",
     "start_time": "2022-07-22T07:19:47.173827Z"
    }
   },
   "outputs": [],
   "source": [
    "# ohe-hot encoding\n",
    "ohe = ['Year','Fuel_Type','Seller_Type', 'Transmission', 'Owner']\n",
    "df2 = pd.get_dummies(df1, columns= ohe)     \n",
    "df2\n",
    "y = df2['Selling_Price']\n",
    "X = df2.drop(columns='Selling_Price')"
   ]
  },
  {
   "cell_type": "code",
   "execution_count": 35,
   "id": "6d9533dd",
   "metadata": {
    "ExecuteTime": {
     "end_time": "2022-07-22T07:19:47.370749Z",
     "start_time": "2022-07-22T07:19:47.330824Z"
    },
    "scrolled": false
   },
   "outputs": [
    {
     "data": {
      "text/html": [
       "<div>\n",
       "<style scoped>\n",
       "    .dataframe tbody tr th:only-of-type {\n",
       "        vertical-align: middle;\n",
       "    }\n",
       "\n",
       "    .dataframe tbody tr th {\n",
       "        vertical-align: top;\n",
       "    }\n",
       "\n",
       "    .dataframe thead th {\n",
       "        text-align: right;\n",
       "    }\n",
       "</style>\n",
       "<table border=\"1\" class=\"dataframe\">\n",
       "  <thead>\n",
       "    <tr style=\"text-align: right;\">\n",
       "      <th></th>\n",
       "      <th>Present_Price</th>\n",
       "      <th>Kms_Driven</th>\n",
       "      <th>Year_2003</th>\n",
       "      <th>Year_2004</th>\n",
       "      <th>Year_2005</th>\n",
       "      <th>Year_2006</th>\n",
       "      <th>Year_2007</th>\n",
       "      <th>Year_2008</th>\n",
       "      <th>Year_2009</th>\n",
       "      <th>Year_2010</th>\n",
       "      <th>...</th>\n",
       "      <th>Fuel_Type_CNG</th>\n",
       "      <th>Fuel_Type_Diesel</th>\n",
       "      <th>Fuel_Type_Petrol</th>\n",
       "      <th>Seller_Type_Dealer</th>\n",
       "      <th>Seller_Type_Individual</th>\n",
       "      <th>Transmission_Automatic</th>\n",
       "      <th>Transmission_Manual</th>\n",
       "      <th>Owner_0</th>\n",
       "      <th>Owner_1</th>\n",
       "      <th>Owner_3</th>\n",
       "    </tr>\n",
       "    <tr>\n",
       "      <th>Car_Name</th>\n",
       "      <th></th>\n",
       "      <th></th>\n",
       "      <th></th>\n",
       "      <th></th>\n",
       "      <th></th>\n",
       "      <th></th>\n",
       "      <th></th>\n",
       "      <th></th>\n",
       "      <th></th>\n",
       "      <th></th>\n",
       "      <th></th>\n",
       "      <th></th>\n",
       "      <th></th>\n",
       "      <th></th>\n",
       "      <th></th>\n",
       "      <th></th>\n",
       "      <th></th>\n",
       "      <th></th>\n",
       "      <th></th>\n",
       "      <th></th>\n",
       "      <th></th>\n",
       "    </tr>\n",
       "  </thead>\n",
       "  <tbody>\n",
       "    <tr>\n",
       "      <th>i20</th>\n",
       "      <td>0.044941</td>\n",
       "      <td>-1.109786</td>\n",
       "      <td>0</td>\n",
       "      <td>0</td>\n",
       "      <td>0</td>\n",
       "      <td>0</td>\n",
       "      <td>0</td>\n",
       "      <td>0</td>\n",
       "      <td>0</td>\n",
       "      <td>0</td>\n",
       "      <td>...</td>\n",
       "      <td>0</td>\n",
       "      <td>0</td>\n",
       "      <td>1</td>\n",
       "      <td>1</td>\n",
       "      <td>0</td>\n",
       "      <td>0</td>\n",
       "      <td>1</td>\n",
       "      <td>1</td>\n",
       "      <td>0</td>\n",
       "      <td>0</td>\n",
       "    </tr>\n",
       "    <tr>\n",
       "      <th>Hero Super Splendor</th>\n",
       "      <td>-0.795389</td>\n",
       "      <td>0.591708</td>\n",
       "      <td>0</td>\n",
       "      <td>0</td>\n",
       "      <td>1</td>\n",
       "      <td>0</td>\n",
       "      <td>0</td>\n",
       "      <td>0</td>\n",
       "      <td>0</td>\n",
       "      <td>0</td>\n",
       "      <td>...</td>\n",
       "      <td>0</td>\n",
       "      <td>0</td>\n",
       "      <td>1</td>\n",
       "      <td>0</td>\n",
       "      <td>1</td>\n",
       "      <td>0</td>\n",
       "      <td>1</td>\n",
       "      <td>1</td>\n",
       "      <td>0</td>\n",
       "      <td>0</td>\n",
       "    </tr>\n",
       "    <tr>\n",
       "      <th>ciaz</th>\n",
       "      <td>0.250280</td>\n",
       "      <td>-0.728175</td>\n",
       "      <td>0</td>\n",
       "      <td>0</td>\n",
       "      <td>0</td>\n",
       "      <td>0</td>\n",
       "      <td>0</td>\n",
       "      <td>0</td>\n",
       "      <td>0</td>\n",
       "      <td>0</td>\n",
       "      <td>...</td>\n",
       "      <td>0</td>\n",
       "      <td>0</td>\n",
       "      <td>1</td>\n",
       "      <td>1</td>\n",
       "      <td>0</td>\n",
       "      <td>1</td>\n",
       "      <td>0</td>\n",
       "      <td>1</td>\n",
       "      <td>0</td>\n",
       "      <td>0</td>\n",
       "    </tr>\n",
       "    <tr>\n",
       "      <th>i20</th>\n",
       "      <td>-0.101252</td>\n",
       "      <td>-0.167225</td>\n",
       "      <td>0</td>\n",
       "      <td>0</td>\n",
       "      <td>0</td>\n",
       "      <td>0</td>\n",
       "      <td>0</td>\n",
       "      <td>0</td>\n",
       "      <td>0</td>\n",
       "      <td>0</td>\n",
       "      <td>...</td>\n",
       "      <td>0</td>\n",
       "      <td>0</td>\n",
       "      <td>1</td>\n",
       "      <td>1</td>\n",
       "      <td>0</td>\n",
       "      <td>1</td>\n",
       "      <td>0</td>\n",
       "      <td>1</td>\n",
       "      <td>0</td>\n",
       "      <td>0</td>\n",
       "    </tr>\n",
       "    <tr>\n",
       "      <th>eon</th>\n",
       "      <td>-0.364622</td>\n",
       "      <td>-0.440803</td>\n",
       "      <td>0</td>\n",
       "      <td>0</td>\n",
       "      <td>0</td>\n",
       "      <td>0</td>\n",
       "      <td>0</td>\n",
       "      <td>0</td>\n",
       "      <td>0</td>\n",
       "      <td>0</td>\n",
       "      <td>...</td>\n",
       "      <td>0</td>\n",
       "      <td>0</td>\n",
       "      <td>1</td>\n",
       "      <td>1</td>\n",
       "      <td>0</td>\n",
       "      <td>0</td>\n",
       "      <td>1</td>\n",
       "      <td>1</td>\n",
       "      <td>0</td>\n",
       "      <td>0</td>\n",
       "    </tr>\n",
       "    <tr>\n",
       "      <th>...</th>\n",
       "      <td>...</td>\n",
       "      <td>...</td>\n",
       "      <td>...</td>\n",
       "      <td>...</td>\n",
       "      <td>...</td>\n",
       "      <td>...</td>\n",
       "      <td>...</td>\n",
       "      <td>...</td>\n",
       "      <td>...</td>\n",
       "      <td>...</td>\n",
       "      <td>...</td>\n",
       "      <td>...</td>\n",
       "      <td>...</td>\n",
       "      <td>...</td>\n",
       "      <td>...</td>\n",
       "      <td>...</td>\n",
       "      <td>...</td>\n",
       "      <td>...</td>\n",
       "      <td>...</td>\n",
       "      <td>...</td>\n",
       "      <td>...</td>\n",
       "    </tr>\n",
       "    <tr>\n",
       "      <th>TVS Sport</th>\n",
       "      <td>-0.800969</td>\n",
       "      <td>-0.728175</td>\n",
       "      <td>0</td>\n",
       "      <td>0</td>\n",
       "      <td>0</td>\n",
       "      <td>0</td>\n",
       "      <td>0</td>\n",
       "      <td>0</td>\n",
       "      <td>0</td>\n",
       "      <td>0</td>\n",
       "      <td>...</td>\n",
       "      <td>0</td>\n",
       "      <td>0</td>\n",
       "      <td>1</td>\n",
       "      <td>0</td>\n",
       "      <td>1</td>\n",
       "      <td>0</td>\n",
       "      <td>1</td>\n",
       "      <td>1</td>\n",
       "      <td>0</td>\n",
       "      <td>0</td>\n",
       "    </tr>\n",
       "    <tr>\n",
       "      <th>verna</th>\n",
       "      <td>0.190018</td>\n",
       "      <td>0.756693</td>\n",
       "      <td>0</td>\n",
       "      <td>0</td>\n",
       "      <td>0</td>\n",
       "      <td>0</td>\n",
       "      <td>0</td>\n",
       "      <td>0</td>\n",
       "      <td>0</td>\n",
       "      <td>0</td>\n",
       "      <td>...</td>\n",
       "      <td>0</td>\n",
       "      <td>1</td>\n",
       "      <td>0</td>\n",
       "      <td>1</td>\n",
       "      <td>0</td>\n",
       "      <td>0</td>\n",
       "      <td>1</td>\n",
       "      <td>1</td>\n",
       "      <td>0</td>\n",
       "      <td>0</td>\n",
       "    </tr>\n",
       "    <tr>\n",
       "      <th>brio</th>\n",
       "      <td>-0.100136</td>\n",
       "      <td>-0.678679</td>\n",
       "      <td>0</td>\n",
       "      <td>0</td>\n",
       "      <td>0</td>\n",
       "      <td>0</td>\n",
       "      <td>0</td>\n",
       "      <td>0</td>\n",
       "      <td>0</td>\n",
       "      <td>0</td>\n",
       "      <td>...</td>\n",
       "      <td>0</td>\n",
       "      <td>0</td>\n",
       "      <td>1</td>\n",
       "      <td>1</td>\n",
       "      <td>0</td>\n",
       "      <td>0</td>\n",
       "      <td>1</td>\n",
       "      <td>1</td>\n",
       "      <td>0</td>\n",
       "      <td>0</td>\n",
       "    </tr>\n",
       "    <tr>\n",
       "      <th>swift</th>\n",
       "      <td>-0.134731</td>\n",
       "      <td>-0.688578</td>\n",
       "      <td>0</td>\n",
       "      <td>0</td>\n",
       "      <td>0</td>\n",
       "      <td>0</td>\n",
       "      <td>0</td>\n",
       "      <td>0</td>\n",
       "      <td>0</td>\n",
       "      <td>0</td>\n",
       "      <td>...</td>\n",
       "      <td>0</td>\n",
       "      <td>0</td>\n",
       "      <td>1</td>\n",
       "      <td>0</td>\n",
       "      <td>1</td>\n",
       "      <td>0</td>\n",
       "      <td>1</td>\n",
       "      <td>1</td>\n",
       "      <td>0</td>\n",
       "      <td>0</td>\n",
       "    </tr>\n",
       "    <tr>\n",
       "      <th>Bajaj Pulsar  NS 200</th>\n",
       "      <td>-0.748518</td>\n",
       "      <td>-0.398204</td>\n",
       "      <td>0</td>\n",
       "      <td>0</td>\n",
       "      <td>0</td>\n",
       "      <td>0</td>\n",
       "      <td>0</td>\n",
       "      <td>0</td>\n",
       "      <td>0</td>\n",
       "      <td>0</td>\n",
       "      <td>...</td>\n",
       "      <td>0</td>\n",
       "      <td>0</td>\n",
       "      <td>1</td>\n",
       "      <td>0</td>\n",
       "      <td>1</td>\n",
       "      <td>0</td>\n",
       "      <td>1</td>\n",
       "      <td>1</td>\n",
       "      <td>0</td>\n",
       "      <td>0</td>\n",
       "    </tr>\n",
       "  </tbody>\n",
       "</table>\n",
       "<p>75 rows × 28 columns</p>\n",
       "</div>"
      ],
      "text/plain": [
       "                      Present_Price  Kms_Driven  Year_2003  Year_2004  \\\n",
       "Car_Name                                                                \n",
       "i20                        0.044941   -1.109786          0          0   \n",
       "Hero Super Splendor       -0.795389    0.591708          0          0   \n",
       "ciaz                       0.250280   -0.728175          0          0   \n",
       "i20                       -0.101252   -0.167225          0          0   \n",
       "eon                       -0.364622   -0.440803          0          0   \n",
       "...                             ...         ...        ...        ...   \n",
       "TVS Sport                 -0.800969   -0.728175          0          0   \n",
       "verna                      0.190018    0.756693          0          0   \n",
       "brio                      -0.100136   -0.678679          0          0   \n",
       "swift                     -0.134731   -0.688578          0          0   \n",
       "Bajaj Pulsar  NS 200      -0.748518   -0.398204          0          0   \n",
       "\n",
       "                      Year_2005  Year_2006  Year_2007  Year_2008  Year_2009  \\\n",
       "Car_Name                                                                      \n",
       "i20                           0          0          0          0          0   \n",
       "Hero Super Splendor           1          0          0          0          0   \n",
       "ciaz                          0          0          0          0          0   \n",
       "i20                           0          0          0          0          0   \n",
       "eon                           0          0          0          0          0   \n",
       "...                         ...        ...        ...        ...        ...   \n",
       "TVS Sport                     0          0          0          0          0   \n",
       "verna                         0          0          0          0          0   \n",
       "brio                          0          0          0          0          0   \n",
       "swift                         0          0          0          0          0   \n",
       "Bajaj Pulsar  NS 200          0          0          0          0          0   \n",
       "\n",
       "                      Year_2010  ...  Fuel_Type_CNG  Fuel_Type_Diesel  \\\n",
       "Car_Name                         ...                                    \n",
       "i20                           0  ...              0                 0   \n",
       "Hero Super Splendor           0  ...              0                 0   \n",
       "ciaz                          0  ...              0                 0   \n",
       "i20                           0  ...              0                 0   \n",
       "eon                           0  ...              0                 0   \n",
       "...                         ...  ...            ...               ...   \n",
       "TVS Sport                     0  ...              0                 0   \n",
       "verna                         0  ...              0                 1   \n",
       "brio                          0  ...              0                 0   \n",
       "swift                         0  ...              0                 0   \n",
       "Bajaj Pulsar  NS 200          0  ...              0                 0   \n",
       "\n",
       "                      Fuel_Type_Petrol  Seller_Type_Dealer  \\\n",
       "Car_Name                                                     \n",
       "i20                                  1                   1   \n",
       "Hero Super Splendor                  1                   0   \n",
       "ciaz                                 1                   1   \n",
       "i20                                  1                   1   \n",
       "eon                                  1                   1   \n",
       "...                                ...                 ...   \n",
       "TVS Sport                            1                   0   \n",
       "verna                                0                   1   \n",
       "brio                                 1                   1   \n",
       "swift                                1                   0   \n",
       "Bajaj Pulsar  NS 200                 1                   0   \n",
       "\n",
       "                      Seller_Type_Individual  Transmission_Automatic  \\\n",
       "Car_Name                                                               \n",
       "i20                                        0                       0   \n",
       "Hero Super Splendor                        1                       0   \n",
       "ciaz                                       0                       1   \n",
       "i20                                        0                       1   \n",
       "eon                                        0                       0   \n",
       "...                                      ...                     ...   \n",
       "TVS Sport                                  1                       0   \n",
       "verna                                      0                       0   \n",
       "brio                                       0                       0   \n",
       "swift                                      1                       0   \n",
       "Bajaj Pulsar  NS 200                       1                       0   \n",
       "\n",
       "                      Transmission_Manual  Owner_0  Owner_1  Owner_3  \n",
       "Car_Name                                                              \n",
       "i20                                     1        1        0        0  \n",
       "Hero Super Splendor                     1        1        0        0  \n",
       "ciaz                                    0        1        0        0  \n",
       "i20                                     0        1        0        0  \n",
       "eon                                     1        1        0        0  \n",
       "...                                   ...      ...      ...      ...  \n",
       "TVS Sport                               1        1        0        0  \n",
       "verna                                   1        1        0        0  \n",
       "brio                                    1        1        0        0  \n",
       "swift                                   1        1        0        0  \n",
       "Bajaj Pulsar  NS 200                    1        1        0        0  \n",
       "\n",
       "[75 rows x 28 columns]"
      ]
     },
     "execution_count": 35,
     "metadata": {},
     "output_type": "execute_result"
    }
   ],
   "source": [
    "from sklearn.model_selection import train_test_split\n",
    "from sklearn.preprocessing import StandardScaler\n",
    "\n",
    "\n",
    "\n",
    "# X(Feature), y(Label) 분리\n",
    "X_train, X_test, y_train, y_test = train_test_split(X, y, random_state=0)\n",
    "X_train.shape, y_train.shape, X_test.shape, y_test.shape\n",
    "\n",
    "# Feature Scaling, 연속형만 적용\n",
    "scaler = StandardScaler()\n",
    "X_train_scaled=X_train\n",
    "X_test_scaled=X_test\n",
    "var = ['Present_Price', 'Kms_Driven']\n",
    "X_train_scaled[var] = scaler.fit_transform(X_train[var])\n",
    "X_test_scaled[var] = scaler.transform(X_test[var])\n",
    "X_test_scaled"
   ]
  },
  {
   "cell_type": "markdown",
   "id": "d92b26ec",
   "metadata": {
    "ExecuteTime": {
     "end_time": "2022-07-20T07:16:57.643583Z",
     "start_time": "2022-07-20T07:16:57.635605Z"
    }
   },
   "source": [
    "# 모델 선정\n",
    "- 모델 선정을 위해 Ensemble Voting 방식 이용해 검증 및 상관관계 판단\n",
    "\n",
    "## 참고\n",
    "- SVM, KNN, LogisticRegression은 Feature Scaling 전처리 데이터를 사용\n",
    "- Random Forest, XGBoost는 Decision Tree기반이므로 Feature Scaling이 필요없다."
   ]
  },
  {
   "cell_type": "markdown",
   "id": "a8433693",
   "metadata": {},
   "source": [
    "## 모델 선정을 위한 테스트"
   ]
  },
  {
   "cell_type": "code",
   "execution_count": 36,
   "id": "bc45c82a",
   "metadata": {
    "ExecuteTime": {
     "end_time": "2022-07-22T07:19:48.346724Z",
     "start_time": "2022-07-22T07:19:47.801454Z"
    }
   },
   "outputs": [
    {
     "name": "stderr",
     "output_type": "stream",
     "text": [
      "C:\\Users\\oj\\anaconda3\\envs\\ml\\lib\\site-packages\\xgboost\\data.py:262: FutureWarning: pandas.Int64Index is deprecated and will be removed from pandas in a future version. Use pandas.Index with the appropriate dtype instead.\n",
      "  elif isinstance(data.columns, (pd.Int64Index, pd.RangeIndex)):\n",
      "C:\\Users\\oj\\anaconda3\\envs\\ml\\lib\\site-packages\\xgboost\\data.py:262: FutureWarning: pandas.Int64Index is deprecated and will be removed from pandas in a future version. Use pandas.Index with the appropriate dtype instead.\n",
      "  elif isinstance(data.columns, (pd.Int64Index, pd.RangeIndex)):\n",
      "C:\\Users\\oj\\anaconda3\\envs\\ml\\lib\\site-packages\\xgboost\\data.py:262: FutureWarning: pandas.Int64Index is deprecated and will be removed from pandas in a future version. Use pandas.Index with the appropriate dtype instead.\n",
      "  elif isinstance(data.columns, (pd.Int64Index, pd.RangeIndex)):\n"
     ]
    }
   ],
   "source": [
    "from sklearn.neighbors import KNeighborsRegressor\n",
    "from sklearn.ensemble import RandomForestRegressor, VotingRegressor\n",
    "from sklearn.linear_model import LinearRegression\n",
    "import xgboost\n",
    "\n",
    "# 각 model 생성\n",
    "knn = KNeighborsRegressor(n_neighbors=5)\n",
    "rf = RandomForestRegressor(n_estimators=200, max_depth=5, random_state=0)\n",
    "lr = LinearRegression()\n",
    "xgb = xgboost.XGBRegressor(max_depth=2, random_state=0)\n",
    "\n",
    "# 학습\n",
    "knn.fit(X_train_scaled, y_train)   \n",
    "rf.fit(X_train, y_train)\n",
    "xgb.fit(X_train, y_train)\n",
    "lr.fit(X_train_scaled, y_train)\n",
    "# 평가\n",
    "pred_train_knn = knn.predict(X_train_scaled)\n",
    "pred_train_rf = rf.predict(X_train)\n",
    "pred_train_xgb = xgb.predict(X_train)\n",
    "pred_train_lr = lr.predict(X_train_scaled)\n",
    "\n",
    "pred_test_knn = knn.predict(X_test_scaled)\n",
    "pred_test_rf = rf.predict(X_test)\n",
    "pred_test_xgb = xgb.predict(X_test)\n",
    "pred_test_lr = lr.predict(X_test_scaled)"
   ]
  },
  {
   "cell_type": "code",
   "execution_count": 37,
   "id": "f6b872a5",
   "metadata": {
    "ExecuteTime": {
     "end_time": "2022-07-22T07:19:48.361682Z",
     "start_time": "2022-07-22T07:19:48.348718Z"
    }
   },
   "outputs": [],
   "source": [
    "# 평가 요소 관련 함수 정의\n",
    "from sklearn.metrics import mean_squared_error, r2_score\n",
    "def print_regression_metrics(y, pred, title=None):\n",
    "    mse = mean_squared_error(y, pred)\n",
    "    rmse = np.sqrt(mse)\n",
    "    r2 = r2_score(y, pred)\n",
    "    if title:\n",
    "        print(title)\n",
    "    print(f\"MSE: {mse}, RMSE: {rmse}, R2: {r2}\")"
   ]
  },
  {
   "cell_type": "code",
   "execution_count": 38,
   "id": "6417932c",
   "metadata": {
    "ExecuteTime": {
     "end_time": "2022-07-22T07:19:48.376643Z",
     "start_time": "2022-07-22T07:19:48.363678Z"
    }
   },
   "outputs": [
    {
     "name": "stdout",
     "output_type": "stream",
     "text": [
      "Train KNN\n",
      "MSE: 2.349753982142857, RMSE: 1.5328907273980286, R2: 0.9008510137064853\n",
      "Test KNN\n",
      "MSE: 3.5874544533333332, RMSE: 1.8940576689566062, R2: 0.8875160833401106\n",
      "--------------------------------------------------------------------------------\n",
      "Train RF\n",
      "MSE: 0.9269656168936696, RMSE: 0.9627905363544397, R2: 0.9608862451378273\n",
      "Test RF\n",
      "MSE: 3.8521698116056213, RMSE: 1.9626945283476034, R2: 0.8792159862417834\n",
      "--------------------------------------------------------------------------------\n",
      "Train lr\n",
      "MSE: 2.2602898116250882, RMSE: 1.503426024660039, R2: 0.9046259969106154\n",
      "Test lr\n",
      "MSE: 3.9523538491793953, RMSE: 1.9880527782680708, R2: 0.8760747357869857\n",
      "--------------------------------------------------------------------------------\n",
      "Train XGB\n",
      "MSE: 0.1903783635291583, RMSE: 0.43632369123067144, R2: 0.9919668944495541\n",
      "Test XGB\n",
      "MSE: 2.3289527248061073, RMSE: 1.526090667295396, R2: 0.9269761532558275\n"
     ]
    }
   ],
   "source": [
    "# train, test set 평가\n",
    "print_regression_metrics(y_train, pred_train_knn, \"Train KNN\")\n",
    "print_regression_metrics(y_test, pred_test_knn, \"Test KNN\")\n",
    "print('-'*80)\n",
    "print_regression_metrics(y_train, pred_train_rf, \"Train RF\")\n",
    "print_regression_metrics(y_test, pred_test_rf, \"Test RF\")\n",
    "print('-'*80)\n",
    "print_regression_metrics(y_train, pred_train_lr, 'Train lr')\n",
    "print_regression_metrics(y_test, pred_test_lr, 'Test lr')\n",
    "print('-'*80)\n",
    "print_regression_metrics(y_train, pred_train_xgb, 'Train XGB')\n",
    "print_regression_metrics(y_test, pred_test_xgb, 'Test XGB')"
   ]
  },
  {
   "cell_type": "markdown",
   "id": "1a4e6738",
   "metadata": {},
   "source": [
    "## 상관관계 분석"
   ]
  },
  {
   "cell_type": "code",
   "execution_count": 39,
   "id": "888774ea",
   "metadata": {
    "ExecuteTime": {
     "end_time": "2022-07-22T07:19:48.454443Z",
     "start_time": "2022-07-22T07:19:48.434496Z"
    }
   },
   "outputs": [
    {
     "data": {
      "text/html": [
       "<div>\n",
       "<style scoped>\n",
       "    .dataframe tbody tr th:only-of-type {\n",
       "        vertical-align: middle;\n",
       "    }\n",
       "\n",
       "    .dataframe tbody tr th {\n",
       "        vertical-align: top;\n",
       "    }\n",
       "\n",
       "    .dataframe thead th {\n",
       "        text-align: right;\n",
       "    }\n",
       "</style>\n",
       "<table border=\"1\" class=\"dataframe\">\n",
       "  <thead>\n",
       "    <tr style=\"text-align: right;\">\n",
       "      <th></th>\n",
       "      <th>KNN</th>\n",
       "      <th>RandomForest</th>\n",
       "      <th>XGBoost</th>\n",
       "      <th>lr</th>\n",
       "    </tr>\n",
       "  </thead>\n",
       "  <tbody>\n",
       "    <tr>\n",
       "      <th>KNN</th>\n",
       "      <td>1.000000</td>\n",
       "      <td>0.963665</td>\n",
       "      <td>0.958787</td>\n",
       "      <td>0.924221</td>\n",
       "    </tr>\n",
       "    <tr>\n",
       "      <th>RandomForest</th>\n",
       "      <td>0.963665</td>\n",
       "      <td>1.000000</td>\n",
       "      <td>0.989006</td>\n",
       "      <td>0.946700</td>\n",
       "    </tr>\n",
       "    <tr>\n",
       "      <th>XGBoost</th>\n",
       "      <td>0.958787</td>\n",
       "      <td>0.989006</td>\n",
       "      <td>1.000000</td>\n",
       "      <td>0.956496</td>\n",
       "    </tr>\n",
       "    <tr>\n",
       "      <th>lr</th>\n",
       "      <td>0.924221</td>\n",
       "      <td>0.946700</td>\n",
       "      <td>0.956496</td>\n",
       "      <td>1.000000</td>\n",
       "    </tr>\n",
       "  </tbody>\n",
       "</table>\n",
       "</div>"
      ],
      "text/plain": [
       "                   KNN  RandomForest   XGBoost        lr\n",
       "KNN           1.000000      0.963665  0.958787  0.924221\n",
       "RandomForest  0.963665      1.000000  0.989006  0.946700\n",
       "XGBoost       0.958787      0.989006  1.000000  0.956496\n",
       "lr            0.924221      0.946700  0.956496  1.000000"
      ]
     },
     "execution_count": 39,
     "metadata": {},
     "output_type": "execute_result"
    }
   ],
   "source": [
    "dfc = pd.DataFrame(np.c_[pred_train_knn,pred_train_rf, pred_train_xgb,pred_train_lr], \n",
    "                  columns=[ \"KNN\", 'RandomForest', 'XGBoost','lr'])\n",
    "dfc.corr()"
   ]
  },
  {
   "cell_type": "markdown",
   "id": "81e664b0",
   "metadata": {},
   "source": [
    "- XGBoost(최고 성능)와 최고 성능 기준으로 상관관계 낮은 KNN\n",
    "  - KNN의 경우 최종 모델로 사용하기 부적합하기에 XGBoost선정"
   ]
  },
  {
   "cell_type": "markdown",
   "id": "bbe1bcde",
   "metadata": {
    "ExecuteTime": {
     "end_time": "2022-07-20T07:19:17.088630Z",
     "start_time": "2022-07-20T07:19:17.080630Z"
    }
   },
   "source": [
    "## XGBoost - 모델 학습\n",
    "- Random Search 이용해 모델 학습"
   ]
  },
  {
   "cell_type": "code",
   "execution_count": 40,
   "id": "f74fcd0b",
   "metadata": {
    "ExecuteTime": {
     "end_time": "2022-07-22T07:20:16.280980Z",
     "start_time": "2022-07-22T07:19:48.908588Z"
    }
   },
   "outputs": [
    {
     "name": "stderr",
     "output_type": "stream",
     "text": [
      "C:\\Users\\oj\\anaconda3\\envs\\ml\\lib\\site-packages\\sklearn\\model_selection\\_search.py:953: UserWarning: One or more of the test scores are non-finite: [ 8.14711393e-01  6.57368386e-01             nan  6.71209259e-01\n",
      "  7.45546347e-01  4.35654851e-01 -8.85558402e+57  2.92619915e-01\n",
      "  3.13967231e-01  7.30510809e-01  4.34822407e-01 -4.41459109e+05\n",
      "  7.51537013e-01 -2.17616335e+11  6.55444886e-01             nan\n",
      "  7.93034821e-01             nan  8.41208667e-01             nan\n",
      "  9.47557726e-02  1.75712398e-01  8.18376070e-01  7.23093355e-01\n",
      "             nan             nan  5.16986787e-01 -2.17615723e+11\n",
      " -4.33623808e+28             nan  7.49228898e-01  9.65956504e-02\n",
      "  2.96417364e-01             nan  7.84678908e-01             nan\n",
      "  4.37855142e-01             nan  8.51639032e-01  6.49624640e-01\n",
      "  7.62920958e-01  7.23261951e-01  7.03378662e-01  2.61917587e-02\n",
      "             nan  3.86198513e-01  7.87441886e-01             nan\n",
      "  7.52969011e-01             nan             nan  2.36689378e-01\n",
      " -4.83377348e-01  7.02173783e-01  4.82489808e-01  4.60474998e-01\n",
      "  7.36681206e-01  7.68539153e-01 -4.70886648e-02  6.45265842e-01]\n",
      "  warnings.warn(\n",
      "C:\\Users\\oj\\anaconda3\\envs\\ml\\lib\\site-packages\\xgboost\\data.py:262: FutureWarning: pandas.Int64Index is deprecated and will be removed from pandas in a future version. Use pandas.Index with the appropriate dtype instead.\n",
      "  elif isinstance(data.columns, (pd.Int64Index, pd.RangeIndex)):\n"
     ]
    },
    {
     "data": {
      "text/html": [
       "<style>#sk-container-id-1 {color: black;background-color: white;}#sk-container-id-1 pre{padding: 0;}#sk-container-id-1 div.sk-toggleable {background-color: white;}#sk-container-id-1 label.sk-toggleable__label {cursor: pointer;display: block;width: 100%;margin-bottom: 0;padding: 0.3em;box-sizing: border-box;text-align: center;}#sk-container-id-1 label.sk-toggleable__label-arrow:before {content: \"▸\";float: left;margin-right: 0.25em;color: #696969;}#sk-container-id-1 label.sk-toggleable__label-arrow:hover:before {color: black;}#sk-container-id-1 div.sk-estimator:hover label.sk-toggleable__label-arrow:before {color: black;}#sk-container-id-1 div.sk-toggleable__content {max-height: 0;max-width: 0;overflow: hidden;text-align: left;background-color: #f0f8ff;}#sk-container-id-1 div.sk-toggleable__content pre {margin: 0.2em;color: black;border-radius: 0.25em;background-color: #f0f8ff;}#sk-container-id-1 input.sk-toggleable__control:checked~div.sk-toggleable__content {max-height: 200px;max-width: 100%;overflow: auto;}#sk-container-id-1 input.sk-toggleable__control:checked~label.sk-toggleable__label-arrow:before {content: \"▾\";}#sk-container-id-1 div.sk-estimator input.sk-toggleable__control:checked~label.sk-toggleable__label {background-color: #d4ebff;}#sk-container-id-1 div.sk-label input.sk-toggleable__control:checked~label.sk-toggleable__label {background-color: #d4ebff;}#sk-container-id-1 input.sk-hidden--visually {border: 0;clip: rect(1px 1px 1px 1px);clip: rect(1px, 1px, 1px, 1px);height: 1px;margin: -1px;overflow: hidden;padding: 0;position: absolute;width: 1px;}#sk-container-id-1 div.sk-estimator {font-family: monospace;background-color: #f0f8ff;border: 1px dotted black;border-radius: 0.25em;box-sizing: border-box;margin-bottom: 0.5em;}#sk-container-id-1 div.sk-estimator:hover {background-color: #d4ebff;}#sk-container-id-1 div.sk-parallel-item::after {content: \"\";width: 100%;border-bottom: 1px solid gray;flex-grow: 1;}#sk-container-id-1 div.sk-label:hover label.sk-toggleable__label {background-color: #d4ebff;}#sk-container-id-1 div.sk-serial::before {content: \"\";position: absolute;border-left: 1px solid gray;box-sizing: border-box;top: 0;bottom: 0;left: 50%;z-index: 0;}#sk-container-id-1 div.sk-serial {display: flex;flex-direction: column;align-items: center;background-color: white;padding-right: 0.2em;padding-left: 0.2em;position: relative;}#sk-container-id-1 div.sk-item {position: relative;z-index: 1;}#sk-container-id-1 div.sk-parallel {display: flex;align-items: stretch;justify-content: center;background-color: white;position: relative;}#sk-container-id-1 div.sk-item::before, #sk-container-id-1 div.sk-parallel-item::before {content: \"\";position: absolute;border-left: 1px solid gray;box-sizing: border-box;top: 0;bottom: 0;left: 50%;z-index: -1;}#sk-container-id-1 div.sk-parallel-item {display: flex;flex-direction: column;z-index: 1;position: relative;background-color: white;}#sk-container-id-1 div.sk-parallel-item:first-child::after {align-self: flex-end;width: 50%;}#sk-container-id-1 div.sk-parallel-item:last-child::after {align-self: flex-start;width: 50%;}#sk-container-id-1 div.sk-parallel-item:only-child::after {width: 0;}#sk-container-id-1 div.sk-dashed-wrapped {border: 1px dashed gray;margin: 0 0.4em 0.5em 0.4em;box-sizing: border-box;padding-bottom: 0.4em;background-color: white;}#sk-container-id-1 div.sk-label label {font-family: monospace;font-weight: bold;display: inline-block;line-height: 1.2em;}#sk-container-id-1 div.sk-label-container {text-align: center;}#sk-container-id-1 div.sk-container {/* jupyter's `normalize.less` sets `[hidden] { display: none; }` but bootstrap.min.css set `[hidden] { display: none !important; }` so we also need the `!important` here to be able to override the default hidden behavior on the sphinx rendered scikit-learn.org. See: https://github.com/scikit-learn/scikit-learn/issues/21755 */display: inline-block !important;position: relative;}#sk-container-id-1 div.sk-text-repr-fallback {display: none;}</style><div id=\"sk-container-id-1\" class=\"sk-top-container\"><div class=\"sk-text-repr-fallback\"><pre>RandomizedSearchCV(cv=4,\n",
       "                   estimator=XGBRegressor(base_score=None, booster=None,\n",
       "                                          colsample_bylevel=None,\n",
       "                                          colsample_bynode=None,\n",
       "                                          colsample_bytree=None,\n",
       "                                          enable_categorical=False, gamma=None,\n",
       "                                          gpu_id=None, importance_type=None,\n",
       "                                          interaction_constraints=None,\n",
       "                                          learning_rate=None,\n",
       "                                          max_delta_step=None, max_depth=None,\n",
       "                                          min_child_weight=None, missing=nan,\n",
       "                                          monotone_constraints=...\n",
       "                                          tree_method=None,\n",
       "                                          validate_parameters=None,\n",
       "                                          verbosity=None),\n",
       "                   n_iter=60, n_jobs=-1,\n",
       "                   param_distributions={&#x27;gamma&#x27;: [0.0, 0.1, 0.2, 0.3, 0.4, 0.5,\n",
       "                                                  0.6, 0.7, 0.8, 0.9],\n",
       "                                        &#x27;learning_rate&#x27;: [0.01, 0.05, 0.1, 1.5,\n",
       "                                                          2, 2.5, 3],\n",
       "                                        &#x27;max_depth&#x27;: [3, 4, 5, 6, 8, 10, 12,\n",
       "                                                      15],\n",
       "                                        &#x27;min_child_weight&#x27;: [1, 3, 5, 7, 9, 11,\n",
       "                                                             13, 15, 17],\n",
       "                                        &#x27;n_estimators&#x27;: [10, 20, 30, 50, 100,\n",
       "                                                         150, 200, 300, 400,\n",
       "                                                         500, 600, 700, 800,\n",
       "                                                         900, 1000]},\n",
       "                   scoring=&#x27;r2&#x27;)</pre><b>In a Jupyter environment, please rerun this cell to show the HTML representation or trust the notebook. <br />On GitHub, the HTML representation is unable to render, please try loading this page with nbviewer.org.</b></div><div class=\"sk-container\" hidden><div class=\"sk-item sk-dashed-wrapped\"><div class=\"sk-label-container\"><div class=\"sk-label sk-toggleable\"><input class=\"sk-toggleable__control sk-hidden--visually\" id=\"sk-estimator-id-1\" type=\"checkbox\" ><label for=\"sk-estimator-id-1\" class=\"sk-toggleable__label sk-toggleable__label-arrow\">RandomizedSearchCV</label><div class=\"sk-toggleable__content\"><pre>RandomizedSearchCV(cv=4,\n",
       "                   estimator=XGBRegressor(base_score=None, booster=None,\n",
       "                                          colsample_bylevel=None,\n",
       "                                          colsample_bynode=None,\n",
       "                                          colsample_bytree=None,\n",
       "                                          enable_categorical=False, gamma=None,\n",
       "                                          gpu_id=None, importance_type=None,\n",
       "                                          interaction_constraints=None,\n",
       "                                          learning_rate=None,\n",
       "                                          max_delta_step=None, max_depth=None,\n",
       "                                          min_child_weight=None, missing=nan,\n",
       "                                          monotone_constraints=...\n",
       "                                          tree_method=None,\n",
       "                                          validate_parameters=None,\n",
       "                                          verbosity=None),\n",
       "                   n_iter=60, n_jobs=-1,\n",
       "                   param_distributions={&#x27;gamma&#x27;: [0.0, 0.1, 0.2, 0.3, 0.4, 0.5,\n",
       "                                                  0.6, 0.7, 0.8, 0.9],\n",
       "                                        &#x27;learning_rate&#x27;: [0.01, 0.05, 0.1, 1.5,\n",
       "                                                          2, 2.5, 3],\n",
       "                                        &#x27;max_depth&#x27;: [3, 4, 5, 6, 8, 10, 12,\n",
       "                                                      15],\n",
       "                                        &#x27;min_child_weight&#x27;: [1, 3, 5, 7, 9, 11,\n",
       "                                                             13, 15, 17],\n",
       "                                        &#x27;n_estimators&#x27;: [10, 20, 30, 50, 100,\n",
       "                                                         150, 200, 300, 400,\n",
       "                                                         500, 600, 700, 800,\n",
       "                                                         900, 1000]},\n",
       "                   scoring=&#x27;r2&#x27;)</pre></div></div></div><div class=\"sk-parallel\"><div class=\"sk-parallel-item\"><div class=\"sk-item\"><div class=\"sk-label-container\"><div class=\"sk-label sk-toggleable\"><input class=\"sk-toggleable__control sk-hidden--visually\" id=\"sk-estimator-id-2\" type=\"checkbox\" ><label for=\"sk-estimator-id-2\" class=\"sk-toggleable__label sk-toggleable__label-arrow\">estimator: XGBRegressor</label><div class=\"sk-toggleable__content\"><pre>XGBRegressor(base_score=None, booster=None, colsample_bylevel=None,\n",
       "             colsample_bynode=None, colsample_bytree=None,\n",
       "             enable_categorical=False, gamma=None, gpu_id=None,\n",
       "             importance_type=None, interaction_constraints=None,\n",
       "             learning_rate=None, max_delta_step=None, max_depth=None,\n",
       "             min_child_weight=None, missing=nan, monotone_constraints=None,\n",
       "             n_estimators=100, n_jobs=None, num_parallel_tree=None,\n",
       "             predictor=None, random_state=None, reg_alpha=None, reg_lambda=None,\n",
       "             scale_pos_weight=None, subsample=None, tree_method=None,\n",
       "             validate_parameters=None, verbosity=None)</pre></div></div></div><div class=\"sk-serial\"><div class=\"sk-item\"><div class=\"sk-estimator sk-toggleable\"><input class=\"sk-toggleable__control sk-hidden--visually\" id=\"sk-estimator-id-3\" type=\"checkbox\" ><label for=\"sk-estimator-id-3\" class=\"sk-toggleable__label sk-toggleable__label-arrow\">XGBRegressor</label><div class=\"sk-toggleable__content\"><pre>XGBRegressor(base_score=None, booster=None, colsample_bylevel=None,\n",
       "             colsample_bynode=None, colsample_bytree=None,\n",
       "             enable_categorical=False, gamma=None, gpu_id=None,\n",
       "             importance_type=None, interaction_constraints=None,\n",
       "             learning_rate=None, max_delta_step=None, max_depth=None,\n",
       "             min_child_weight=None, missing=nan, monotone_constraints=None,\n",
       "             n_estimators=100, n_jobs=None, num_parallel_tree=None,\n",
       "             predictor=None, random_state=None, reg_alpha=None, reg_lambda=None,\n",
       "             scale_pos_weight=None, subsample=None, tree_method=None,\n",
       "             validate_parameters=None, verbosity=None)</pre></div></div></div></div></div></div></div></div></div></div>"
      ],
      "text/plain": [
       "RandomizedSearchCV(cv=4,\n",
       "                   estimator=XGBRegressor(base_score=None, booster=None,\n",
       "                                          colsample_bylevel=None,\n",
       "                                          colsample_bynode=None,\n",
       "                                          colsample_bytree=None,\n",
       "                                          enable_categorical=False, gamma=None,\n",
       "                                          gpu_id=None, importance_type=None,\n",
       "                                          interaction_constraints=None,\n",
       "                                          learning_rate=None,\n",
       "                                          max_delta_step=None, max_depth=None,\n",
       "                                          min_child_weight=None, missing=nan,\n",
       "                                          monotone_constraints=...\n",
       "                                          tree_method=None,\n",
       "                                          validate_parameters=None,\n",
       "                                          verbosity=None),\n",
       "                   n_iter=60, n_jobs=-1,\n",
       "                   param_distributions={'gamma': [0.0, 0.1, 0.2, 0.3, 0.4, 0.5,\n",
       "                                                  0.6, 0.7, 0.8, 0.9],\n",
       "                                        'learning_rate': [0.01, 0.05, 0.1, 1.5,\n",
       "                                                          2, 2.5, 3],\n",
       "                                        'max_depth': [3, 4, 5, 6, 8, 10, 12,\n",
       "                                                      15],\n",
       "                                        'min_child_weight': [1, 3, 5, 7, 9, 11,\n",
       "                                                             13, 15, 17],\n",
       "                                        'n_estimators': [10, 20, 30, 50, 100,\n",
       "                                                         150, 200, 300, 400,\n",
       "                                                         500, 600, 700, 800,\n",
       "                                                         900, 1000]},\n",
       "                   scoring='r2')"
      ]
     },
     "execution_count": 40,
     "metadata": {},
     "output_type": "execute_result"
    }
   ],
   "source": [
    "import xgboost \n",
    "from sklearn.model_selection import RandomizedSearchCV\n",
    "\n",
    "\n",
    "xgb = xgboost.XGBRegressor()\n",
    "params = {\n",
    " \"learning_rate\" : [0.01,0.05,0.1, 1.5, 2, 2.5, 3],\n",
    " \"max_depth\" : [3, 4, 5, 6, 8, 10, 12, 15],\n",
    " \"min_child_weight\" : [ 1, 3, 5, 7, 9, 11, 13, 15, 17],\n",
    " \"gamma\" : [ 0.0, 0.1, 0.2 , 0.3, 0.4, 0.5, 0.6, 0.7, 0.8, 0.9 ],\n",
    " \"n_estimators\" : [10, 20, 30, 50, 100, 150, 200, 300, 400, 500, 600, 700, 800, 900 ,1000]  # 반복횟수,\n",
    "#  \"subsample\" = \n",
    "}\n",
    "n_iter_search = 60\n",
    "xgb_random = RandomizedSearchCV(xgb,    # 모델\n",
    "                                param_distributions=params,   # 파라미터 조합\n",
    "                                n_iter=n_iter_search,   \n",
    "                                scoring= 'r2',\n",
    "                                cv=4,   # cross validation의 fold 개수\n",
    "                                n_jobs=-1) \n",
    "xgb_random.fit(X_train,y_train)"
   ]
  },
  {
   "cell_type": "code",
   "execution_count": 41,
   "id": "bd9ae762",
   "metadata": {
    "ExecuteTime": {
     "end_time": "2022-07-22T07:20:16.296938Z",
     "start_time": "2022-07-22T07:20:16.282975Z"
    }
   },
   "outputs": [
    {
     "data": {
      "text/plain": [
       "(0.85163903150252,\n",
       " {'n_estimators': 300,\n",
       "  'min_child_weight': 3,\n",
       "  'max_depth': 3,\n",
       "  'learning_rate': 0.1,\n",
       "  'gamma': 0.3})"
      ]
     },
     "execution_count": 41,
     "metadata": {},
     "output_type": "execute_result"
    }
   ],
   "source": [
    "# best score, parameter 조회\n",
    "xgb_random.best_score_, xgb_random.best_params_"
   ]
  },
  {
   "cell_type": "code",
   "execution_count": 42,
   "id": "bac166a8",
   "metadata": {
    "ExecuteTime": {
     "end_time": "2022-07-22T07:20:16.312894Z",
     "start_time": "2022-07-22T07:20:16.298933Z"
    }
   },
   "outputs": [
    {
     "name": "stdout",
     "output_type": "stream",
     "text": [
      "train_mse :  0.3082560160341269\n",
      "train_r2 :  0.9869929908658825\n",
      "test_mse :  2.8988481834609443\n",
      "test_r2 :  0.909107195165888\n"
     ]
    }
   ],
   "source": [
    "best = xgb_random.best_estimator_\n",
    "\n",
    "pred_train = best.predict(X_train)\n",
    "pred_test = best.predict(X_test)\n",
    "\n",
    "print('train_mse : ',mean_squared_error(y_train, pred_train))\n",
    "print('train_r2 : ',r2_score(y_train, pred_train))\n",
    "print('test_mse : ',mean_squared_error(y_test, pred_test))\n",
    "print('test_r2 : ',r2_score(y_test, pred_test))"
   ]
  },
  {
   "cell_type": "markdown",
   "id": "db399e1a",
   "metadata": {},
   "source": [
    "## Feature 중요도 확인"
   ]
  },
  {
   "cell_type": "code",
   "execution_count": 43,
   "id": "d7bdf560",
   "metadata": {
    "ExecuteTime": {
     "end_time": "2022-07-22T07:20:16.691776Z",
     "start_time": "2022-07-22T07:20:16.314890Z"
    }
   },
   "outputs": [
    {
     "data": {
      "text/plain": [
       "<AxesSubplot:>"
      ]
     },
     "execution_count": 43,
     "metadata": {},
     "output_type": "execute_result"
    },
    {
     "data": {
      "image/png": "[encoded data removed]",
      "text/plain": [
       "<Figure size 1440x1440 with 1 Axes>"
      ]
     },
     "metadata": {
      "needs_background": "light"
     },
     "output_type": "display_data"
    }
   ],
   "source": [
    "import pandas as pd\n",
    "fi = pd.Series(best.feature_importances_, index=X.columns)\n",
    "fi.sort_values(ascending=False)\n",
    "fi.sort_values().plot(kind='barh', figsize=(20,20), fontsize=40)"
   ]
  },
  {
   "cell_type": "markdown",
   "id": "476e887b",
   "metadata": {},
   "source": [
    "- 연도를 범주형으로 넣었을 때 큰 중요도가 없는 것으로 보임\n",
    "  - 주관적인 생각으로는 연도의 영향력 정확하지 않다 생각\n",
    "  \n",
    "## Data 개선 후 다시 학습\n",
    "- 연도 수정\n",
    "- 이상치 제거 X"
   ]
  },
  {
   "cell_type": "code",
   "execution_count": 44,
   "id": "fb2d648b",
   "metadata": {
    "ExecuteTime": {
     "end_time": "2022-07-22T07:20:16.723198Z",
     "start_time": "2022-07-22T07:20:16.693772Z"
    }
   },
   "outputs": [
    {
     "data": {
      "text/html": [
       "<div>\n",
       "<style scoped>\n",
       "    .dataframe tbody tr th:only-of-type {\n",
       "        vertical-align: middle;\n",
       "    }\n",
       "\n",
       "    .dataframe tbody tr th {\n",
       "        vertical-align: top;\n",
       "    }\n",
       "\n",
       "    .dataframe thead th {\n",
       "        text-align: right;\n",
       "    }\n",
       "</style>\n",
       "<table border=\"1\" class=\"dataframe\">\n",
       "  <thead>\n",
       "    <tr style=\"text-align: right;\">\n",
       "      <th></th>\n",
       "      <th>Selling_Price</th>\n",
       "      <th>Present_Price</th>\n",
       "      <th>Kms_Driven</th>\n",
       "      <th>Fuel_Type</th>\n",
       "      <th>Seller_Type</th>\n",
       "      <th>Transmission</th>\n",
       "      <th>Owner</th>\n",
       "      <th>year</th>\n",
       "    </tr>\n",
       "    <tr>\n",
       "      <th>Car_Name</th>\n",
       "      <th></th>\n",
       "      <th></th>\n",
       "      <th></th>\n",
       "      <th></th>\n",
       "      <th></th>\n",
       "      <th></th>\n",
       "      <th></th>\n",
       "      <th></th>\n",
       "    </tr>\n",
       "  </thead>\n",
       "  <tbody>\n",
       "    <tr>\n",
       "      <th>ritz</th>\n",
       "      <td>3.35</td>\n",
       "      <td>5.59</td>\n",
       "      <td>27000</td>\n",
       "      <td>Petrol</td>\n",
       "      <td>Dealer</td>\n",
       "      <td>Manual</td>\n",
       "      <td>0</td>\n",
       "      <td>8</td>\n",
       "    </tr>\n",
       "    <tr>\n",
       "      <th>sx4</th>\n",
       "      <td>4.75</td>\n",
       "      <td>9.54</td>\n",
       "      <td>43000</td>\n",
       "      <td>Diesel</td>\n",
       "      <td>Dealer</td>\n",
       "      <td>Manual</td>\n",
       "      <td>0</td>\n",
       "      <td>9</td>\n",
       "    </tr>\n",
       "    <tr>\n",
       "      <th>ciaz</th>\n",
       "      <td>7.25</td>\n",
       "      <td>9.85</td>\n",
       "      <td>6900</td>\n",
       "      <td>Petrol</td>\n",
       "      <td>Dealer</td>\n",
       "      <td>Manual</td>\n",
       "      <td>0</td>\n",
       "      <td>5</td>\n",
       "    </tr>\n",
       "    <tr>\n",
       "      <th>wagon r</th>\n",
       "      <td>2.85</td>\n",
       "      <td>4.15</td>\n",
       "      <td>5200</td>\n",
       "      <td>Petrol</td>\n",
       "      <td>Dealer</td>\n",
       "      <td>Manual</td>\n",
       "      <td>0</td>\n",
       "      <td>11</td>\n",
       "    </tr>\n",
       "    <tr>\n",
       "      <th>swift</th>\n",
       "      <td>4.60</td>\n",
       "      <td>6.87</td>\n",
       "      <td>42450</td>\n",
       "      <td>Diesel</td>\n",
       "      <td>Dealer</td>\n",
       "      <td>Manual</td>\n",
       "      <td>0</td>\n",
       "      <td>8</td>\n",
       "    </tr>\n",
       "    <tr>\n",
       "      <th>...</th>\n",
       "      <td>...</td>\n",
       "      <td>...</td>\n",
       "      <td>...</td>\n",
       "      <td>...</td>\n",
       "      <td>...</td>\n",
       "      <td>...</td>\n",
       "      <td>...</td>\n",
       "      <td>...</td>\n",
       "    </tr>\n",
       "    <tr>\n",
       "      <th>city</th>\n",
       "      <td>9.50</td>\n",
       "      <td>11.60</td>\n",
       "      <td>33988</td>\n",
       "      <td>Diesel</td>\n",
       "      <td>Dealer</td>\n",
       "      <td>Manual</td>\n",
       "      <td>0</td>\n",
       "      <td>6</td>\n",
       "    </tr>\n",
       "    <tr>\n",
       "      <th>brio</th>\n",
       "      <td>4.00</td>\n",
       "      <td>5.90</td>\n",
       "      <td>60000</td>\n",
       "      <td>Petrol</td>\n",
       "      <td>Dealer</td>\n",
       "      <td>Manual</td>\n",
       "      <td>0</td>\n",
       "      <td>7</td>\n",
       "    </tr>\n",
       "    <tr>\n",
       "      <th>city</th>\n",
       "      <td>3.35</td>\n",
       "      <td>11.00</td>\n",
       "      <td>87934</td>\n",
       "      <td>Petrol</td>\n",
       "      <td>Dealer</td>\n",
       "      <td>Manual</td>\n",
       "      <td>0</td>\n",
       "      <td>13</td>\n",
       "    </tr>\n",
       "    <tr>\n",
       "      <th>city</th>\n",
       "      <td>11.50</td>\n",
       "      <td>12.50</td>\n",
       "      <td>9000</td>\n",
       "      <td>Diesel</td>\n",
       "      <td>Dealer</td>\n",
       "      <td>Manual</td>\n",
       "      <td>0</td>\n",
       "      <td>5</td>\n",
       "    </tr>\n",
       "    <tr>\n",
       "      <th>brio</th>\n",
       "      <td>5.30</td>\n",
       "      <td>5.90</td>\n",
       "      <td>5464</td>\n",
       "      <td>Petrol</td>\n",
       "      <td>Dealer</td>\n",
       "      <td>Manual</td>\n",
       "      <td>0</td>\n",
       "      <td>6</td>\n",
       "    </tr>\n",
       "  </tbody>\n",
       "</table>\n",
       "<p>301 rows × 8 columns</p>\n",
       "</div>"
      ],
      "text/plain": [
       "          Selling_Price  Present_Price  Kms_Driven Fuel_Type Seller_Type  \\\n",
       "Car_Name                                                                   \n",
       "ritz               3.35           5.59       27000    Petrol      Dealer   \n",
       "sx4                4.75           9.54       43000    Diesel      Dealer   \n",
       "ciaz               7.25           9.85        6900    Petrol      Dealer   \n",
       "wagon r            2.85           4.15        5200    Petrol      Dealer   \n",
       "swift              4.60           6.87       42450    Diesel      Dealer   \n",
       "...                 ...            ...         ...       ...         ...   \n",
       "city               9.50          11.60       33988    Diesel      Dealer   \n",
       "brio               4.00           5.90       60000    Petrol      Dealer   \n",
       "city               3.35          11.00       87934    Petrol      Dealer   \n",
       "city              11.50          12.50        9000    Diesel      Dealer   \n",
       "brio               5.30           5.90        5464    Petrol      Dealer   \n",
       "\n",
       "         Transmission  Owner  year  \n",
       "Car_Name                            \n",
       "ritz           Manual      0     8  \n",
       "sx4            Manual      0     9  \n",
       "ciaz           Manual      0     5  \n",
       "wagon r        Manual      0    11  \n",
       "swift          Manual      0     8  \n",
       "...               ...    ...   ...  \n",
       "city           Manual      0     6  \n",
       "brio           Manual      0     7  \n",
       "city           Manual      0    13  \n",
       "city           Manual      0     5  \n",
       "brio           Manual      0     6  \n",
       "\n",
       "[301 rows x 8 columns]"
      ]
     },
     "execution_count": 44,
     "metadata": {},
     "output_type": "execute_result"
    }
   ],
   "source": [
    "# Year column을 범주형이 아닌 연속형으로 변환해 추가 후 Year 제거\n",
    "df2 = df\n",
    "df2['year'] = 2022-df2['Year']\n",
    "df2.drop(columns='Year', inplace=True)\n",
    "df2"
   ]
  },
  {
   "cell_type": "code",
   "execution_count": 45,
   "id": "39448212",
   "metadata": {
    "ExecuteTime": {
     "end_time": "2022-07-22T07:20:41.559313Z",
     "start_time": "2022-07-22T07:20:16.725222Z"
    }
   },
   "outputs": [
    {
     "name": "stderr",
     "output_type": "stream",
     "text": [
      "C:\\Users\\oj\\anaconda3\\envs\\ml\\lib\\site-packages\\sklearn\\model_selection\\_search.py:953: UserWarning: One or more of the test scores are non-finite: [ 5.33217659e-01  1.84375298e-01  8.40263392e-01  6.54644102e-01\n",
      "  6.89154598e-01  8.51542264e-01  5.08811010e-01             nan\n",
      "  8.83382027e-01  8.87297957e-01  8.35230215e-01 -1.16405661e+03\n",
      "  8.34005348e-01  5.41866920e-01  5.83656173e-01  7.30298098e-01\n",
      "  6.48887783e-01  5.21208523e-01  7.33140302e-02             nan\n",
      "  5.50681364e-01  7.91542272e-01  5.33080003e-01  7.89695803e-01\n",
      "  7.82124104e-01  1.43205495e-01             nan  7.23781516e-01\n",
      "  1.70987272e-01 -4.79689438e-01  7.75440679e-01  1.48989772e-01\n",
      "  6.57990986e-01  7.76637642e-01  7.31359128e-01  6.44753271e-01\n",
      "  7.80071304e-01  7.78085219e-01  8.38399231e-01  8.90571335e-01\n",
      "             nan             nan -1.16401134e+03             nan\n",
      "  6.85138082e-01  7.18518186e-01  7.61906506e-01             nan\n",
      "  7.00128530e-01  7.56388337e-01             nan  1.67051611e-01\n",
      "  8.70161002e-01  8.85826325e-01  7.63069906e-01  2.81926120e-01\n",
      "  3.54616380e-01 -1.76448175e+09  5.58113593e-01  7.25349327e-01]\n",
      "  warnings.warn(\n",
      "C:\\Users\\oj\\anaconda3\\envs\\ml\\lib\\site-packages\\xgboost\\data.py:262: FutureWarning: pandas.Int64Index is deprecated and will be removed from pandas in a future version. Use pandas.Index with the appropriate dtype instead.\n",
      "  elif isinstance(data.columns, (pd.Int64Index, pd.RangeIndex)):\n"
     ]
    },
    {
     "data": {
      "text/html": [
       "<style>#sk-container-id-2 {color: black;background-color: white;}#sk-container-id-2 pre{padding: 0;}#sk-container-id-2 div.sk-toggleable {background-color: white;}#sk-container-id-2 label.sk-toggleable__label {cursor: pointer;display: block;width: 100%;margin-bottom: 0;padding: 0.3em;box-sizing: border-box;text-align: center;}#sk-container-id-2 label.sk-toggleable__label-arrow:before {content: \"▸\";float: left;margin-right: 0.25em;color: #696969;}#sk-container-id-2 label.sk-toggleable__label-arrow:hover:before {color: black;}#sk-container-id-2 div.sk-estimator:hover label.sk-toggleable__label-arrow:before {color: black;}#sk-container-id-2 div.sk-toggleable__content {max-height: 0;max-width: 0;overflow: hidden;text-align: left;background-color: #f0f8ff;}#sk-container-id-2 div.sk-toggleable__content pre {margin: 0.2em;color: black;border-radius: 0.25em;background-color: #f0f8ff;}#sk-container-id-2 input.sk-toggleable__control:checked~div.sk-toggleable__content {max-height: 200px;max-width: 100%;overflow: auto;}#sk-container-id-2 input.sk-toggleable__control:checked~label.sk-toggleable__label-arrow:before {content: \"▾\";}#sk-container-id-2 div.sk-estimator input.sk-toggleable__control:checked~label.sk-toggleable__label {background-color: #d4ebff;}#sk-container-id-2 div.sk-label input.sk-toggleable__control:checked~label.sk-toggleable__label {background-color: #d4ebff;}#sk-container-id-2 input.sk-hidden--visually {border: 0;clip: rect(1px 1px 1px 1px);clip: rect(1px, 1px, 1px, 1px);height: 1px;margin: -1px;overflow: hidden;padding: 0;position: absolute;width: 1px;}#sk-container-id-2 div.sk-estimator {font-family: monospace;background-color: #f0f8ff;border: 1px dotted black;border-radius: 0.25em;box-sizing: border-box;margin-bottom: 0.5em;}#sk-container-id-2 div.sk-estimator:hover {background-color: #d4ebff;}#sk-container-id-2 div.sk-parallel-item::after {content: \"\";width: 100%;border-bottom: 1px solid gray;flex-grow: 1;}#sk-container-id-2 div.sk-label:hover label.sk-toggleable__label {background-color: #d4ebff;}#sk-container-id-2 div.sk-serial::before {content: \"\";position: absolute;border-left: 1px solid gray;box-sizing: border-box;top: 0;bottom: 0;left: 50%;z-index: 0;}#sk-container-id-2 div.sk-serial {display: flex;flex-direction: column;align-items: center;background-color: white;padding-right: 0.2em;padding-left: 0.2em;position: relative;}#sk-container-id-2 div.sk-item {position: relative;z-index: 1;}#sk-container-id-2 div.sk-parallel {display: flex;align-items: stretch;justify-content: center;background-color: white;position: relative;}#sk-container-id-2 div.sk-item::before, #sk-container-id-2 div.sk-parallel-item::before {content: \"\";position: absolute;border-left: 1px solid gray;box-sizing: border-box;top: 0;bottom: 0;left: 50%;z-index: -1;}#sk-container-id-2 div.sk-parallel-item {display: flex;flex-direction: column;z-index: 1;position: relative;background-color: white;}#sk-container-id-2 div.sk-parallel-item:first-child::after {align-self: flex-end;width: 50%;}#sk-container-id-2 div.sk-parallel-item:last-child::after {align-self: flex-start;width: 50%;}#sk-container-id-2 div.sk-parallel-item:only-child::after {width: 0;}#sk-container-id-2 div.sk-dashed-wrapped {border: 1px dashed gray;margin: 0 0.4em 0.5em 0.4em;box-sizing: border-box;padding-bottom: 0.4em;background-color: white;}#sk-container-id-2 div.sk-label label {font-family: monospace;font-weight: bold;display: inline-block;line-height: 1.2em;}#sk-container-id-2 div.sk-label-container {text-align: center;}#sk-container-id-2 div.sk-container {/* jupyter's `normalize.less` sets `[hidden] { display: none; }` but bootstrap.min.css set `[hidden] { display: none !important; }` so we also need the `!important` here to be able to override the default hidden behavior on the sphinx rendered scikit-learn.org. See: https://github.com/scikit-learn/scikit-learn/issues/21755 */display: inline-block !important;position: relative;}#sk-container-id-2 div.sk-text-repr-fallback {display: none;}</style><div id=\"sk-container-id-2\" class=\"sk-top-container\"><div class=\"sk-text-repr-fallback\"><pre>RandomizedSearchCV(cv=4,\n",
       "                   estimator=XGBRegressor(base_score=None, booster=None,\n",
       "                                          colsample_bylevel=None,\n",
       "                                          colsample_bynode=None,\n",
       "                                          colsample_bytree=None,\n",
       "                                          enable_categorical=False, gamma=None,\n",
       "                                          gpu_id=None, importance_type=None,\n",
       "                                          interaction_constraints=None,\n",
       "                                          learning_rate=None,\n",
       "                                          max_delta_step=None, max_depth=None,\n",
       "                                          min_child_weight=None, missing=nan,\n",
       "                                          monotone_constraints=...\n",
       "                                          tree_method=None,\n",
       "                                          validate_parameters=None,\n",
       "                                          verbosity=None),\n",
       "                   n_iter=60, n_jobs=-1,\n",
       "                   param_distributions={&#x27;gamma&#x27;: [0.0, 0.1, 0.2, 0.3, 0.4, 0.5,\n",
       "                                                  0.6, 0.7, 0.8, 0.9],\n",
       "                                        &#x27;learning_rate&#x27;: [0.01, 0.05, 0.1, 1.5,\n",
       "                                                          2, 2.5, 3],\n",
       "                                        &#x27;max_depth&#x27;: [3, 4, 5, 6, 8, 10, 12,\n",
       "                                                      15],\n",
       "                                        &#x27;min_child_weight&#x27;: [1, 3, 5, 7, 9, 11,\n",
       "                                                             13, 15, 17],\n",
       "                                        &#x27;n_estimators&#x27;: [10, 20, 30, 50, 100,\n",
       "                                                         150, 200, 300, 400,\n",
       "                                                         500, 600, 700, 800,\n",
       "                                                         900, 1000]},\n",
       "                   scoring=&#x27;r2&#x27;)</pre><b>In a Jupyter environment, please rerun this cell to show the HTML representation or trust the notebook. <br />On GitHub, the HTML representation is unable to render, please try loading this page with nbviewer.org.</b></div><div class=\"sk-container\" hidden><div class=\"sk-item sk-dashed-wrapped\"><div class=\"sk-label-container\"><div class=\"sk-label sk-toggleable\"><input class=\"sk-toggleable__control sk-hidden--visually\" id=\"sk-estimator-id-4\" type=\"checkbox\" ><label for=\"sk-estimator-id-4\" class=\"sk-toggleable__label sk-toggleable__label-arrow\">RandomizedSearchCV</label><div class=\"sk-toggleable__content\"><pre>RandomizedSearchCV(cv=4,\n",
       "                   estimator=XGBRegressor(base_score=None, booster=None,\n",
       "                                          colsample_bylevel=None,\n",
       "                                          colsample_bynode=None,\n",
       "                                          colsample_bytree=None,\n",
       "                                          enable_categorical=False, gamma=None,\n",
       "                                          gpu_id=None, importance_type=None,\n",
       "                                          interaction_constraints=None,\n",
       "                                          learning_rate=None,\n",
       "                                          max_delta_step=None, max_depth=None,\n",
       "                                          min_child_weight=None, missing=nan,\n",
       "                                          monotone_constraints=...\n",
       "                                          tree_method=None,\n",
       "                                          validate_parameters=None,\n",
       "                                          verbosity=None),\n",
       "                   n_iter=60, n_jobs=-1,\n",
       "                   param_distributions={&#x27;gamma&#x27;: [0.0, 0.1, 0.2, 0.3, 0.4, 0.5,\n",
       "                                                  0.6, 0.7, 0.8, 0.9],\n",
       "                                        &#x27;learning_rate&#x27;: [0.01, 0.05, 0.1, 1.5,\n",
       "                                                          2, 2.5, 3],\n",
       "                                        &#x27;max_depth&#x27;: [3, 4, 5, 6, 8, 10, 12,\n",
       "                                                      15],\n",
       "                                        &#x27;min_child_weight&#x27;: [1, 3, 5, 7, 9, 11,\n",
       "                                                             13, 15, 17],\n",
       "                                        &#x27;n_estimators&#x27;: [10, 20, 30, 50, 100,\n",
       "                                                         150, 200, 300, 400,\n",
       "                                                         500, 600, 700, 800,\n",
       "                                                         900, 1000]},\n",
       "                   scoring=&#x27;r2&#x27;)</pre></div></div></div><div class=\"sk-parallel\"><div class=\"sk-parallel-item\"><div class=\"sk-item\"><div class=\"sk-label-container\"><div class=\"sk-label sk-toggleable\"><input class=\"sk-toggleable__control sk-hidden--visually\" id=\"sk-estimator-id-5\" type=\"checkbox\" ><label for=\"sk-estimator-id-5\" class=\"sk-toggleable__label sk-toggleable__label-arrow\">estimator: XGBRegressor</label><div class=\"sk-toggleable__content\"><pre>XGBRegressor(base_score=None, booster=None, colsample_bylevel=None,\n",
       "             colsample_bynode=None, colsample_bytree=None,\n",
       "             enable_categorical=False, gamma=None, gpu_id=None,\n",
       "             importance_type=None, interaction_constraints=None,\n",
       "             learning_rate=None, max_delta_step=None, max_depth=None,\n",
       "             min_child_weight=None, missing=nan, monotone_constraints=None,\n",
       "             n_estimators=100, n_jobs=None, num_parallel_tree=None,\n",
       "             predictor=None, random_state=None, reg_alpha=None, reg_lambda=None,\n",
       "             scale_pos_weight=None, subsample=None, tree_method=None,\n",
       "             validate_parameters=None, verbosity=None)</pre></div></div></div><div class=\"sk-serial\"><div class=\"sk-item\"><div class=\"sk-estimator sk-toggleable\"><input class=\"sk-toggleable__control sk-hidden--visually\" id=\"sk-estimator-id-6\" type=\"checkbox\" ><label for=\"sk-estimator-id-6\" class=\"sk-toggleable__label sk-toggleable__label-arrow\">XGBRegressor</label><div class=\"sk-toggleable__content\"><pre>XGBRegressor(base_score=None, booster=None, colsample_bylevel=None,\n",
       "             colsample_bynode=None, colsample_bytree=None,\n",
       "             enable_categorical=False, gamma=None, gpu_id=None,\n",
       "             importance_type=None, interaction_constraints=None,\n",
       "             learning_rate=None, max_delta_step=None, max_depth=None,\n",
       "             min_child_weight=None, missing=nan, monotone_constraints=None,\n",
       "             n_estimators=100, n_jobs=None, num_parallel_tree=None,\n",
       "             predictor=None, random_state=None, reg_alpha=None, reg_lambda=None,\n",
       "             scale_pos_weight=None, subsample=None, tree_method=None,\n",
       "             validate_parameters=None, verbosity=None)</pre></div></div></div></div></div></div></div></div></div></div>"
      ],
      "text/plain": [
       "RandomizedSearchCV(cv=4,\n",
       "                   estimator=XGBRegressor(base_score=None, booster=None,\n",
       "                                          colsample_bylevel=None,\n",
       "                                          colsample_bynode=None,\n",
       "                                          colsample_bytree=None,\n",
       "                                          enable_categorical=False, gamma=None,\n",
       "                                          gpu_id=None, importance_type=None,\n",
       "                                          interaction_constraints=None,\n",
       "                                          learning_rate=None,\n",
       "                                          max_delta_step=None, max_depth=None,\n",
       "                                          min_child_weight=None, missing=nan,\n",
       "                                          monotone_constraints=...\n",
       "                                          tree_method=None,\n",
       "                                          validate_parameters=None,\n",
       "                                          verbosity=None),\n",
       "                   n_iter=60, n_jobs=-1,\n",
       "                   param_distributions={'gamma': [0.0, 0.1, 0.2, 0.3, 0.4, 0.5,\n",
       "                                                  0.6, 0.7, 0.8, 0.9],\n",
       "                                        'learning_rate': [0.01, 0.05, 0.1, 1.5,\n",
       "                                                          2, 2.5, 3],\n",
       "                                        'max_depth': [3, 4, 5, 6, 8, 10, 12,\n",
       "                                                      15],\n",
       "                                        'min_child_weight': [1, 3, 5, 7, 9, 11,\n",
       "                                                             13, 15, 17],\n",
       "                                        'n_estimators': [10, 20, 30, 50, 100,\n",
       "                                                         150, 200, 300, 400,\n",
       "                                                         500, 600, 700, 800,\n",
       "                                                         900, 1000]},\n",
       "                   scoring='r2')"
      ]
     },
     "execution_count": 45,
     "metadata": {},
     "output_type": "execute_result"
    }
   ],
   "source": [
    "# One-hot encoding\n",
    "ohe2 = ['Fuel_Type','Seller_Type', 'Transmission', 'Owner']\n",
    "df3 = pd.get_dummies(df2, columns= ohe2)   \n",
    "y2 = df3['Selling_Price']\n",
    "X2 = df3.drop(columns='Selling_Price')\n",
    "\n",
    "# X(Feature), y(Label) 분리\n",
    "X_train2, X_test2, y_train2, y_test2 = train_test_split(X2, y2, random_state=0)\n",
    "X_train2.shape, y_train2.shape, X_test2.shape, y_test2.shape\n",
    "\n",
    "# 전에 사용했던 model로 학습\n",
    "xgb_random.fit(X_train2,y_train2)"
   ]
  },
  {
   "cell_type": "code",
   "execution_count": 46,
   "id": "bf09cbf0",
   "metadata": {
    "ExecuteTime": {
     "end_time": "2022-07-22T07:20:41.589234Z",
     "start_time": "2022-07-22T07:20:41.562306Z"
    }
   },
   "outputs": [
    {
     "name": "stdout",
     "output_type": "stream",
     "text": [
      "train_mse :  0.23357680629219968\n",
      "train_r2 :  0.9900503886849795\n",
      "test_mse :  2.4626868821925605\n",
      "test_r2 :  0.9229585469488104\n"
     ]
    }
   ],
   "source": [
    "# 검증\n",
    "best2 = xgb_random.best_estimator_\n",
    "\n",
    "pred_train2 = best2.predict(X_train2)\n",
    "pred_test2 = best2.predict(X_test2)\n",
    "\n",
    "print('train_mse : ',mean_squared_error(y_train2, pred_train2))\n",
    "print('train_r2 : ',r2_score(y_train2, pred_train2))\n",
    "print('test_mse : ',mean_squared_error(y_test2, pred_test2))\n",
    "print('test_r2 : ',r2_score(y_test2, pred_test2))"
   ]
  },
  {
   "cell_type": "markdown",
   "id": "f9acb1e0",
   "metadata": {},
   "source": [
    "- 평가지표 아주 조금 개선된 모습\n",
    "- year의 영향력 증가"
   ]
  },
  {
   "cell_type": "code",
   "execution_count": 47,
   "id": "7198730c",
   "metadata": {
    "ExecuteTime": {
     "end_time": "2022-07-22T07:20:41.839757Z",
     "start_time": "2022-07-22T07:20:41.591228Z"
    }
   },
   "outputs": [
    {
     "data": {
      "text/plain": [
       "<AxesSubplot:>"
      ]
     },
     "execution_count": 47,
     "metadata": {},
     "output_type": "execute_result"
    },
    {
     "data": {
      "image/png": "[encoded data removed]",
      "text/plain": [
       "<Figure size 1440x1440 with 1 Axes>"
      ]
     },
     "metadata": {
      "needs_background": "light"
     },
     "output_type": "display_data"
    }
   ],
   "source": [
    "fi2 = pd.Series(best2.feature_importances_, index=X2.columns)\n",
    "fi2.sort_values().plot(kind='barh', figsize=(20,20), fontsize=40)"
   ]
  },
  {
   "cell_type": "code",
   "execution_count": 48,
   "id": "1a8f2cf8",
   "metadata": {
    "ExecuteTime": {
     "end_time": "2022-07-22T07:20:41.855482Z",
     "start_time": "2022-07-22T07:20:41.841658Z"
    }
   },
   "outputs": [],
   "source": [
    "# 상대적인 비율 확인 위해 영향력 0인 Feature 제거 후 pie chart\n",
    "impo = best2.feature_importances_\n",
    "changeValue = best2.feature_importances_\n",
    "sto = []  \n",
    "col = X2.columns\n",
    "for i in range(len(changeValue)):\n",
    "    if changeValue[i] == 0:\n",
    "        sto.append(i)\n",
    "impo = np.delete(impo, sto)\n",
    "col = np.delete(col,sto)"
   ]
  },
  {
   "cell_type": "code",
   "execution_count": 49,
   "id": "1b8189d8",
   "metadata": {
    "ExecuteTime": {
     "end_time": "2022-07-22T07:20:42.028184Z",
     "start_time": "2022-07-22T07:20:41.858476Z"
    }
   },
   "outputs": [
    {
     "data": {
      "image/png": "[encoded data removed]",
      "text/plain": [
       "<Figure size 864x864 with 1 Axes>"
      ]
     },
     "metadata": {},
     "output_type": "display_data"
    }
   ],
   "source": [
    "plt.figure(figsize=(12, 12))\n",
    "plt.title('Relative Feature Importance',size=30)\n",
    "plt.pie(impo, labels=col, autopct='%.1f%%',textprops={'fontsize': 20})\n",
    "plt.show()"
   ]
  },
  {
   "cell_type": "code",
   "execution_count": 50,
   "id": "b22db3c4",
   "metadata": {
    "ExecuteTime": {
     "end_time": "2022-07-22T07:20:42.185209Z",
     "start_time": "2022-07-22T07:20:42.030181Z"
    },
    "scrolled": false
   },
   "outputs": [
    {
     "data": {
      "text/plain": [
       "[<matplotlib.lines.Line2D at 0x26ab749bee0>]"
      ]
     },
     "execution_count": 50,
     "metadata": {},
     "output_type": "execute_result"
    },
    {
     "data": {
      "image/png": "[encoded data removed]",
      "text/plain": [
       "<Figure size 720x720 with 1 Axes>"
      ]
     },
     "metadata": {
      "needs_background": "light"
     },
     "output_type": "display_data"
    }
   ],
   "source": [
    "plt.figure(figsize=(10, 10))\n",
    "plt.title('실제, 예측 값 비교')\n",
    "plt.xlabel('Actual Price')\n",
    "plt.ylabel('Predicted Price')\n",
    "plt.scatter(y_test2, pred_test2)\n",
    "plt.plot(y_test2,y_test2,color='red')"
   ]
  },
  {
   "cell_type": "markdown",
   "id": "e963cc37",
   "metadata": {},
   "source": [
    "# 결론\n",
    "- 일정 가격 이상은 예측 확률 떨어지는 모습 관측할 수 있다\n",
    "  - 이는 밑에서 보이는 것처럼 대다수의 Selling_Price 데이터가 일정 가격 이하에 포진되어있는 것이 원인이 된다고 생각한다\n",
    "  - 일정 가격 이상의 데이터를 확보한다면 충분히 개선 가능할 것이라 생각한다"
   ]
  },
  {
   "cell_type": "code",
   "execution_count": 51,
   "id": "b46267d7",
   "metadata": {
    "ExecuteTime": {
     "end_time": "2022-07-22T07:20:42.614450Z",
     "start_time": "2022-07-22T07:20:42.187203Z"
    },
    "scrolled": false
   },
   "outputs": [
    {
     "data": {
      "image/png": "[encoded data removed]",
      "text/plain": [
       "<Figure size 432x432 with 1 Axes>"
      ]
     },
     "metadata": {
      "needs_background": "light"
     },
     "output_type": "display_data"
    },
    {
     "data": {
      "image/png": "[encoded data removed]",
      "text/plain": [
       "<Figure size 432x432 with 1 Axes>"
      ]
     },
     "metadata": {
      "needs_background": "light"
     },
     "output_type": "display_data"
    },
    {
     "data": {
      "image/png": "[encoded data removed]",
      "text/plain": [
       "<Figure size 432x432 with 1 Axes>"
      ]
     },
     "metadata": {
      "needs_background": "light"
     },
     "output_type": "display_data"
    }
   ],
   "source": [
    "llist = ['Selling_Price', 'Present_Price', 'Kms_Driven']\n",
    "df4 = df[llist]\n",
    "for i in df4.columns:\n",
    "    plt.figure(figsize=(6, 6))\n",
    "    sns.scatterplot(x='Selling_Price', y=i, data=df, color='red')"
   ]
  }
 ],
 "metadata": {
  "kernelspec": {
   "display_name": "Python 3 (ipykernel)",
   "language": "python",
   "name": "python3"
  },
  "language_info": {
   "codemirror_mode": {
    "name": "ipython",
    "version": 3
   },
   "file_extension": ".py",
   "mimetype": "text/x-python",
   "name": "python",
   "nbconvert_exporter": "python",
   "pygments_lexer": "ipython3",
   "version": "3.9.12"
  },
  "toc": {
   "base_numbering": 1,
   "nav_menu": {},
   "number_sections": true,
   "sideBar": true,
   "skip_h1_title": false,
   "title_cell": "Table of Contents",
   "title_sidebar": "Contents",
   "toc_cell": false,
   "toc_position": {},
   "toc_section_display": true,
   "toc_window_display": false
  },
  "varInspector": {
   "cols": {
    "lenName": 16,
    "lenType": 16,
    "lenVar": 40
   },
   "kernels_config": {
    "python": {
     "delete_cmd_postfix": "",
     "delete_cmd_prefix": "del ",
     "library": "var_list.py",
     "varRefreshCmd": "print(var_dic_list())"
    },
    "r": {
     "delete_cmd_postfix": ") ",
     "delete_cmd_prefix": "rm(",
     "library": "var_list.r",
     "varRefreshCmd": "cat(var_dic_list()) "
    }
   },
   "types_to_exclude": [
    "module",
    "function",
    "builtin_function_or_method",
    "instance",
    "_Feature"
   ],
   "window_display": false
  }
 },
 "nbformat": 4,
 "nbformat_minor": 5
}
